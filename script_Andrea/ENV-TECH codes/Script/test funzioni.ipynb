{
 "cells": [
  {
   "cell_type": "code",
   "execution_count": 1,
   "metadata": {},
   "outputs": [],
   "source": [
    "import io\n",
    "import sharepy\n",
    "import getpass\n",
    "import pandas as pd\n",
    "import sys\n",
    "import os\n",
    "from pathlib import Path\n",
    "import numpy as np\n",
    "import csv"
   ]
  },
  {
   "cell_type": "code",
   "execution_count": null,
   "metadata": {},
   "outputs": [],
   "source": [
    "lista_dir1 = ['1_CPC']\n",
    "lista_dir2 = ['2_CPC']\n",
    "lista_dir3 = ['3_CPC']\n",
    "lista_dir4 = ['4_CPC']\n",
    "lista_dir5 = ['5_CPC']\n",
    "lista_dir6 = ['6_CPC']\n",
    "lista_dir7 = ['7_CPC']\n",
    "lista_dir8 = ['8_CPC']\n",
    "lista_dir9 = ['1_IPC']"
   ]
  },
  {
   "cell_type": "code",
   "execution_count": null,
   "metadata": {},
   "outputs": [],
   "source": [
    "path_base = r\"C:\\Users\\bincoletto\\OneDrive - Area Science Park\\Documenti\\green classification\"\n",
    "path_dati = path_base + \"\\\\ENV-TECH codes\\\\\"\n",
    "lista_dd = []\n",
    "for x in lista_dir1:\n",
    "    lista_dd.append(path_dati + x + \"\\\\\")\n",
    "print(f'directory dati: {lista_dd}')"
   ]
  },
  {
   "cell_type": "code",
   "execution_count": null,
   "metadata": {},
   "outputs": [],
   "source": [
    "def lista_file_csv(dd):\n",
    "    lista_file = []\n",
    "    for root, dirs, files in os.walk(dd):\n",
    "        for name in files:\n",
    "            if 'csv' in name:\n",
    "                lista_file.append(os.path.join(root, name))\n",
    "    n = len(lista_file)\n",
    "    print(f'la directory contiene {n} file')\n",
    "    return (lista_file)"
   ]
  },
  {
   "cell_type": "code",
   "execution_count": null,
   "metadata": {},
   "outputs": [],
   "source": [
    "for dd in lista_dd:\n",
    "    print(f'>>> inizio elaborazione {dd}')\n",
    "    file_da_elaborare = lista_file_csv(dd)"
   ]
  },
  {
   "cell_type": "code",
   "execution_count": null,
   "metadata": {},
   "outputs": [],
   "source": [
    "def carica_dati_da_csv(ff):\n",
    "    print(f'Elaborazione dei file {ff} \\n ')\n",
    "    df = pd.read_csv(ff, sep = ',', encoding='utf-8-sig', dtype=str)\n",
    "    return(df)"
   ]
  },
  {
   "cell_type": "code",
   "execution_count": null,
   "metadata": {},
   "outputs": [],
   "source": [
    "lista_df = []\n",
    "for ff in file_da_elaborare:\n",
    "    df = carica_dati_da_csv(ff)\n",
    "    lista_df.append(df)\n",
    "df_code_1 = pd.concat(lista_df)"
   ]
  },
  {
   "cell_type": "code",
   "execution_count": null,
   "metadata": {},
   "outputs": [],
   "source": [
    "path_base = r\"C:\\Users\\bincoletto\\OneDrive - Area Science Park\\Documenti\\green classification\"\n",
    "path_dati = path_base + \"\\\\ENV-TECH codes\\\\\"\n",
    "lista_dd = []\n",
    "for x in lista_dir2:\n",
    "    lista_dd.append(path_dati + x + \"\\\\\")\n",
    "print(f'directory dati: {lista_dd}')\n",
    "\n",
    "for dd in lista_dd:\n",
    "    print(f'>>> inizio elaborazione {dd}')\n",
    "    file_da_elaborare = lista_file_csv(dd)\n",
    "\n",
    "lista_df = []\n",
    "for ff in file_da_elaborare:\n",
    "    df = carica_dati_da_csv(ff)\n",
    "    lista_df.append(df)\n",
    "df_code_2 = pd.concat(lista_df)"
   ]
  }
 ],
 "metadata": {
  "kernelspec": {
   "display_name": "Python 3.9.5 64-bit",
   "language": "python",
   "name": "python3"
  },
  "language_info": {
   "codemirror_mode": {
    "name": "ipython",
    "version": 3
   },
   "file_extension": ".py",
   "mimetype": "text/x-python",
   "name": "python",
   "nbconvert_exporter": "python",
   "pygments_lexer": "ipython3",
   "version": "3.9.5"
  },
  "orig_nbformat": 4,
  "vscode": {
   "interpreter": {
    "hash": "930310433b839ec1457e1cdd9f16908570261e6f3670db41d734e188786974cb"
   }
  }
 },
 "nbformat": 4,
 "nbformat_minor": 2
}
