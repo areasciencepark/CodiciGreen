{
 "cells": [
  {
   "cell_type": "markdown",
   "metadata": {},
   "source": [
    "# Make a full list of Green codes"
   ]
  },
  {
   "cell_type": "markdown",
   "metadata": {},
   "source": [
    "## part 1: data exploration"
   ]
  },
  {
   "cell_type": "code",
   "execution_count": 11,
   "metadata": {},
   "outputs": [],
   "source": [
    "import pandas as pd \n",
    "import re"
   ]
  },
  {
   "cell_type": "code",
   "execution_count": 3,
   "metadata": {},
   "outputs": [
    {
     "data": {
      "text/html": [
       "<div>\n",
       "<style scoped>\n",
       "    .dataframe tbody tr th:only-of-type {\n",
       "        vertical-align: middle;\n",
       "    }\n",
       "\n",
       "    .dataframe tbody tr th {\n",
       "        vertical-align: top;\n",
       "    }\n",
       "\n",
       "    .dataframe thead th {\n",
       "        text-align: right;\n",
       "    }\n",
       "</style>\n",
       "<table border=\"1\" class=\"dataframe\">\n",
       "  <thead>\n",
       "    <tr style=\"text-align: right;\">\n",
       "      <th></th>\n",
       "      <th>IPC</th>\n",
       "    </tr>\n",
       "  </thead>\n",
       "  <tbody>\n",
       "    <tr>\n",
       "      <th>2</th>\n",
       "      <td>C10L 5/00, 5/40-5/48</td>\n",
       "    </tr>\n",
       "    <tr>\n",
       "      <th>3</th>\n",
       "      <td>C10B 53/02</td>\n",
       "    </tr>\n",
       "    <tr>\n",
       "      <th>4</th>\n",
       "      <td>C10L 5/40, 9/00</td>\n",
       "    </tr>\n",
       "    <tr>\n",
       "      <th>5</th>\n",
       "      <td>C10L 1/00, 1/02, 1/14</td>\n",
       "    </tr>\n",
       "    <tr>\n",
       "      <th>6</th>\n",
       "      <td>C10L 1/02, 1/19</td>\n",
       "    </tr>\n",
       "    <tr>\n",
       "      <th>...</th>\n",
       "      <td>...</td>\n",
       "    </tr>\n",
       "    <tr>\n",
       "      <th>287</th>\n",
       "      <td>G21</td>\n",
       "    </tr>\n",
       "    <tr>\n",
       "      <th>288</th>\n",
       "      <td>G21B</td>\n",
       "    </tr>\n",
       "    <tr>\n",
       "      <th>289</th>\n",
       "      <td>G21C</td>\n",
       "    </tr>\n",
       "    <tr>\n",
       "      <th>290</th>\n",
       "      <td>G21D</td>\n",
       "    </tr>\n",
       "    <tr>\n",
       "      <th>291</th>\n",
       "      <td>F02C 1/05</td>\n",
       "    </tr>\n",
       "  </tbody>\n",
       "</table>\n",
       "<p>271 rows × 1 columns</p>\n",
       "</div>"
      ],
      "text/plain": [
       "                       IPC\n",
       "2     C10L 5/00, 5/40-5/48\n",
       "3               C10B 53/02\n",
       "4          C10L 5/40, 9/00\n",
       "5    C10L 1/00, 1/02, 1/14\n",
       "6          C10L 1/02, 1/19\n",
       "..                     ...\n",
       "287                    G21\n",
       "288                   G21B\n",
       "289                   G21C\n",
       "290                   G21D\n",
       "291              F02C 1/05\n",
       "\n",
       "[271 rows x 1 columns]"
      ]
     },
     "execution_count": 3,
     "metadata": {},
     "output_type": "execute_result"
    }
   ],
   "source": [
    "# reading data and selecting only the column we are interested in\n",
    "raw_data = pd.read_excel(\"2IPCGreenInventoryList_2022WIPO.xlsx\", dtype=str)\n",
    "raw_data = raw_data[[ \"IPC\"]]\n",
    "raw_data.dropna(inplace=True)\n",
    "raw_data"
   ]
  },
  {
   "cell_type": "markdown",
   "metadata": {},
   "source": [
    "## try a generic for loop to scan the dataframe and identify relevant separators\n",
    "\n",
    "\",\" is the separator for lists of codes\n",
    "\"-\" is the separator for sequences\n",
    "\n",
    "scan the dataframe and add individual results in a codes_list"
   ]
  },
  {
   "cell_type": "code",
   "execution_count": 14,
   "metadata": {},
   "outputs": [
    {
     "data": {
      "text/plain": [
       "['F02C 1/05']"
      ]
     },
     "execution_count": 14,
     "metadata": {},
     "output_type": "execute_result"
    }
   ],
   "source": []
  },
  {
   "cell_type": "code",
   "execution_count": 40,
   "metadata": {},
   "outputs": [
    {
     "name": "stdout",
     "output_type": "stream",
     "text": [
      "1 this is a sequence  C10L 5/40-5/48\n",
      "3 C10L 9/00\n",
      "4 C10L 1/02\n",
      "4 C10L 1/14\n",
      "5 C10L 1/19\n",
      "6 C07C 69/00\n",
      "8 C10L 1/19\n",
      "11 C10L 1/182\n",
      "14 C02F 11/04\n",
      "18 C12N 1/15\n",
      "18 C12N 1/21\n",
      "18 C12N 5/10\n",
      "18 C12N 15/00\n",
      "22 this is a sequence  H01M 8/00-8/24\n",
      "22 this is a sequence  H01M 12/00-12/08\n",
      "25 this is a sequence  H01M 50/00-50/171\n",
      "30 C10L 5/44\n",
      "31 F23G 7/10\n",
      "32 C10J 3/46\n",
      "38 F23G 7/00\n",
      "42 C02F 11/14\n",
      "43 F23G 7/10\n",
      "47 B01D 53/04\n",
      "47 B01D 53/047\n",
      "47 B01D 53/14\n",
      "47 B01D 53/22\n",
      "47 B01D 53/24\n",
      "56 B63H 19/04\n",
      "68 this is a sequence  H01L 31/00-31/078\n",
      "71 this is a sequence  H01L 51/42-51/48\n",
      "72 H01L 25/03\n",
      "72 H01L 25/16\n",
      "72 H01L 25/18\n",
      "72 H01L 31/042\n",
      "74 C23C 16/24\n",
      "83 F24D 18/00\n",
      "84 F24D 5/00\n",
      "84 F24D 11/00\n",
      "84 F24D 19/00\n",
      "86 F03D 9/00\n",
      "86 F03D 13/20\n",
      "95 E04D 13/18\n",
      "99 F26B 3/28\n",
      "109 F03G 7/04\n",
      "114 F24D 18/00\n",
      "122 F01K 23/04\n",
      "134 B60K 6/20\n",
      "136 this is a sequence  F16H 48/00-48/30\n",
      "144 F02M 27/02\n",
      "147 B62D 35/02\n",
      "150 B62M 3/00\n",
      "150 B62M 5/00\n",
      "150 B62M 6/00\n",
      "155 B63H 19/04\n",
      "163 H02J 7/00\n",
      "163 H02J 15/00\n",
      "170 F28D 20/02\n",
      "173 H01L 51/50\n",
      "175 this is a sequence  E04B 1/74-1/80\n",
      "175 E04B 1/88\n",
      "175 E04B 1/90\n",
      "176 E04C 1/41\n",
      "176 this is a sequence  E04C 2/284-2/296\n",
      "183 E04D 3/35\n",
      "183 E04D 13/16\n",
      "187 B60K 6/30\n",
      "192 A62D 101/00\n",
      "196 D21B 1/32\n",
      "198 A43B 21/14\n",
      "205 this is a sequence  C11B 13/00-13/04\n",
      "214 C10L 5/48\n",
      "215 C22B 19/30\n",
      "215 C22B 25/06\n",
      "218 H01J 9/52\n",
      "219 H01M 10/54\n",
      "220 B01D 53/22\n",
      "220 B01D 53/62\n",
      "223 E21B 43/16\n",
      "242 C10L 10/06\n",
      "254 C02F 3/00\n",
      "254 C02F 9/00\n"
     ]
    }
   ],
   "source": [
    "codes_list = []\n",
    "dash = \"-\"\n",
    "i=0\n",
    "for index, row in raw_data.iterrows():\n",
    "    i+=1\n",
    "    first_part = row['IPC'].split(\" \")[0 ]\n",
    "    other_parts= row['IPC'].split(\",\")[1:]\n",
    "     \n",
    "    for j in range(0,len(other_parts)):\n",
    "        if \"-\" in other_parts[j]:\n",
    "            print(i, \"this is a sequence \", first_part + other_parts[j])\n",
    "        else:\n",
    "            full_code = first_part + other_parts[j]\n",
    "            print(i, full_code)\n",
    "        \n",
    "\n",
    "    "
   ]
  },
  {
   "cell_type": "code",
   "execution_count": 30,
   "metadata": {},
   "outputs": [
    {
     "data": {
      "text/plain": [
       "['1/05']"
      ]
     },
     "execution_count": 30,
     "metadata": {},
     "output_type": "execute_result"
    }
   ],
   "source": [
    "other_parts"
   ]
  }
 ],
 "metadata": {
  "kernelspec": {
   "display_name": "Python 3.9.4 64-bit",
   "language": "python",
   "name": "python3"
  },
  "language_info": {
   "codemirror_mode": {
    "name": "ipython",
    "version": 3
   },
   "file_extension": ".py",
   "mimetype": "text/x-python",
   "name": "python",
   "nbconvert_exporter": "python",
   "pygments_lexer": "ipython3",
   "version": "3.9.4"
  },
  "orig_nbformat": 4,
  "vscode": {
   "interpreter": {
    "hash": "b4729865a22534d6f9208df7ad62fcc43b9c380b0fa5e0386bae689fab02704b"
   }
  }
 },
 "nbformat": 4,
 "nbformat_minor": 2
}
