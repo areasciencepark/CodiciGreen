{
 "cells": [
  {
   "cell_type": "code",
   "execution_count": 6,
   "metadata": {},
   "outputs": [],
   "source": [
    "import io\n",
    "import sharepy\n",
    "import getpass\n",
    "import pandas as pd\n",
    "import sys\n",
    "import os\n",
    "from pathlib import Path\n",
    "import numpy as np\n",
    "import csv"
   ]
  },
  {
   "cell_type": "code",
   "execution_count": 7,
   "metadata": {},
   "outputs": [],
   "source": [
    "# # Authentication to sharepoint \n",
    "# URL = 'https://areasciencepark.sharepoint.com'\n",
    "# SHAREPOINT_USER = 'leyla.vesnic@areasciencepark.it'\n",
    "# SHAREPOINT_PASSWORD =  getpass.getpass('inserire la password: ')\n",
    "# s = sharepy.connect(URL, username=SHAREPOINT_USER, password=SHAREPOINT_PASSWORD)"
   ]
  },
  {
   "cell_type": "markdown",
   "metadata": {},
   "source": [
    "NB!!!!!!!!\n",
    "Da migliorare: il ciclo for va a prendere solo i file dell'ultima directory salvata nella lista finale, quindi serve che vada a pescare anche quelli prima!\n",
    "Nel mentre ho costruito, con i medesimi cicli, un dataframe per ogni cartella di CPC e IPC, per poi fare l'append su tutti (mooooolto lungo e poco efficiente)."
   ]
  },
  {
   "cell_type": "code",
   "execution_count": 8,
   "metadata": {},
   "outputs": [],
   "source": [
    "lista_dir1 = ['1_CPC']\n",
    "lista_dir2 = ['2_CPC']\n",
    "lista_dir3 = ['3_CPC']\n",
    "lista_dir4 = ['4_CPC']\n",
    "lista_dir5 = ['5_CPC']\n",
    "lista_dir6 = ['6_CPC']\n",
    "lista_dir7 = ['7_CPC']\n",
    "lista_dir8 = ['8_CPC']\n",
    "lista_dir9 = ['1_IPC']\n"
   ]
  },
  {
   "cell_type": "code",
   "execution_count": 9,
   "metadata": {},
   "outputs": [
    {
     "name": "stdout",
     "output_type": "stream",
     "text": [
      "directory dati: ['C:\\\\Users\\\\bincoletto\\\\OneDrive - Area Science Park\\\\Documenti\\\\green classification\\\\ENV-TECH codes\\\\1_CPC\\\\']\n"
     ]
    }
   ],
   "source": [
    "path_base = r\"C:\\Users\\bincoletto\\OneDrive - Area Science Park\\Documenti\\green classification\"\n",
    "path_dati = path_base + \"\\\\ENV-TECH codes\\\\\"\n",
    "lista_dd = []\n",
    "for x in lista_dir1:\n",
    "    lista_dd.append(path_dati + x + \"\\\\\")\n",
    "print(f'directory dati: {lista_dd}')"
   ]
  },
  {
   "cell_type": "code",
   "execution_count": 10,
   "metadata": {},
   "outputs": [],
   "source": [
    "def lista_file_csv(dd):\n",
    "    lista_file = []\n",
    "    for root, dirs, files in os.walk(dd):\n",
    "        for name in files:\n",
    "            if 'csv' in name:\n",
    "                lista_file.append(os.path.join(root, name))\n",
    "    n = len(lista_file)\n",
    "    print(f'la directory contiene {n} file')\n",
    "    return (lista_file)\n"
   ]
  },
  {
   "cell_type": "code",
   "execution_count": 11,
   "metadata": {},
   "outputs": [
    {
     "name": "stdout",
     "output_type": "stream",
     "text": [
      ">>> inizio elaborazione C:\\Users\\bincoletto\\OneDrive - Area Science Park\\Documenti\\green classification\\ENV-TECH codes\\1_CPC\\\n",
      "la directory contiene 13 file\n"
     ]
    }
   ],
   "source": [
    "for dd in lista_dd:\n",
    "    print(f'>>> inizio elaborazione {dd}')\n",
    "    file_da_elaborare = lista_file_csv(dd)"
   ]
  },
  {
   "cell_type": "code",
   "execution_count": 12,
   "metadata": {},
   "outputs": [],
   "source": [
    "def carica_dati_da_csv(ff):\n",
    "    print(f'Elaborazione dei file {ff} \\n ')\n",
    "    df = pd.read_csv(ff, sep = ',', encoding='utf-8-sig', dtype=str)\n",
    "    return(df)"
   ]
  },
  {
   "cell_type": "code",
   "execution_count": 13,
   "metadata": {},
   "outputs": [
    {
     "name": "stdout",
     "output_type": "stream",
     "text": [
      "Elaborazione dei file C:\\Users\\bincoletto\\OneDrive - Area Science Park\\Documenti\\green classification\\ENV-TECH codes\\1_CPC\\1.1.1. Emissions abatement from stationary sources.csv \n",
      " \n",
      "Elaborazione dei file C:\\Users\\bincoletto\\OneDrive - Area Science Park\\Documenti\\green classification\\ENV-TECH codes\\1_CPC\\1.1.2. Emissions abatement from mobile sources.csv \n",
      " \n",
      "Elaborazione dei file C:\\Users\\bincoletto\\OneDrive - Area Science Park\\Documenti\\green classification\\ENV-TECH codes\\1_CPC\\1.1.3. Air pollution abatement - Not elsewhere classified.csv \n",
      " \n",
      "Elaborazione dei file C:\\Users\\bincoletto\\OneDrive - Area Science Park\\Documenti\\green classification\\ENV-TECH codes\\1_CPC\\1.2.1. Water and wastewater treatment.csv \n",
      " \n",
      "Elaborazione dei file C:\\Users\\bincoletto\\OneDrive - Area Science Park\\Documenti\\green classification\\ENV-TECH codes\\1_CPC\\1.2.2. Fertilizers from wastewater.csv \n",
      " \n",
      "Elaborazione dei file C:\\Users\\bincoletto\\OneDrive - Area Science Park\\Documenti\\green classification\\ENV-TECH codes\\1_CPC\\1.2.3. Oil spill and pollutant clean-up.csv \n",
      " \n",
      "Elaborazione dei file C:\\Users\\bincoletto\\OneDrive - Area Science Park\\Documenti\\green classification\\ENV-TECH codes\\1_CPC\\1.3.1. Solid waste collection.csv \n",
      " \n",
      "Elaborazione dei file C:\\Users\\bincoletto\\OneDrive - Area Science Park\\Documenti\\green classification\\ENV-TECH codes\\1_CPC\\1.3.2. Material recovery recycling and re-use.csv \n",
      " \n",
      "Elaborazione dei file C:\\Users\\bincoletto\\OneDrive - Area Science Park\\Documenti\\green classification\\ENV-TECH codes\\1_CPC\\1.3.3. Fertilizers from waste.csv \n",
      " \n",
      "Elaborazione dei file C:\\Users\\bincoletto\\OneDrive - Area Science Park\\Documenti\\green classification\\ENV-TECH codes\\1_CPC\\1.3.4. Incineration and energy recovery.csv \n",
      " \n",
      "Elaborazione dei file C:\\Users\\bincoletto\\OneDrive - Area Science Park\\Documenti\\green classification\\ENV-TECH codes\\1_CPC\\1.3.6. Waste management Not elsewhere classified.csv \n",
      " \n",
      "Elaborazione dei file C:\\Users\\bincoletto\\OneDrive - Area Science Park\\Documenti\\green classification\\ENV-TECH codes\\1_CPC\\1.4.  Soil remediation.csv \n",
      " \n",
      "Elaborazione dei file C:\\Users\\bincoletto\\OneDrive - Area Science Park\\Documenti\\green classification\\ENV-TECH codes\\1_CPC\\1.5.  Environmental monitoring.csv \n",
      " \n"
     ]
    }
   ],
   "source": [
    "lista_df = []\n",
    "for ff in file_da_elaborare:\n",
    "    df = carica_dati_da_csv(ff)\n",
    "    lista_df.append(df)\n",
    "df_code_1 = pd.concat(lista_df)"
   ]
  },
  {
   "cell_type": "code",
   "execution_count": 14,
   "metadata": {},
   "outputs": [
    {
     "name": "stdout",
     "output_type": "stream",
     "text": [
      "directory dati: ['C:\\\\Users\\\\bincoletto\\\\OneDrive - Area Science Park\\\\Documenti\\\\green classification\\\\ENV-TECH codes\\\\2_CPC\\\\']\n",
      ">>> inizio elaborazione C:\\Users\\bincoletto\\OneDrive - Area Science Park\\Documenti\\green classification\\ENV-TECH codes\\2_CPC\\\n",
      "la directory contiene 31 file\n",
      "Elaborazione dei file C:\\Users\\bincoletto\\OneDrive - Area Science Park\\Documenti\\green classification\\ENV-TECH codes\\2_CPC\\2. Climate change mitigation technologies related to energy generation, transmission or distribution.csv \n",
      " \n",
      "Elaborazione dei file C:\\Users\\bincoletto\\OneDrive - Area Science Park\\Documenti\\green classification\\ENV-TECH codes\\2_CPC\\2.1. Renewable energy generation.csv \n",
      " \n",
      "Elaborazione dei file C:\\Users\\bincoletto\\OneDrive - Area Science Park\\Documenti\\green classification\\ENV-TECH codes\\2_CPC\\2.1.1. Wind energy.csv \n",
      " \n",
      "Elaborazione dei file C:\\Users\\bincoletto\\OneDrive - Area Science Park\\Documenti\\green classification\\ENV-TECH codes\\2_CPC\\2.1.2. Solar thermal energy.csv \n",
      " \n",
      "Elaborazione dei file C:\\Users\\bincoletto\\OneDrive - Area Science Park\\Documenti\\green classification\\ENV-TECH codes\\2_CPC\\2.1.3. Solar photovoltaic (PV) energy.csv \n",
      " \n",
      "Elaborazione dei file C:\\Users\\bincoletto\\OneDrive - Area Science Park\\Documenti\\green classification\\ENV-TECH codes\\2_CPC\\2.1.4. Solar thermal-PV hybrids.csv \n",
      " \n",
      "Elaborazione dei file C:\\Users\\bincoletto\\OneDrive - Area Science Park\\Documenti\\green classification\\ENV-TECH codes\\2_CPC\\2.1.5. Geothermal energy.csv \n",
      " \n",
      "Elaborazione dei file C:\\Users\\bincoletto\\OneDrive - Area Science Park\\Documenti\\green classification\\ENV-TECH codes\\2_CPC\\2.1.6. Marine energy, e.g. using wave energy or salinity gradient.csv \n",
      " \n",
      "Elaborazione dei file C:\\Users\\bincoletto\\OneDrive - Area Science Park\\Documenti\\green classification\\ENV-TECH codes\\2_CPC\\2.1.7. Hydro energy.csv \n",
      " \n",
      "Elaborazione dei file C:\\Users\\bincoletto\\OneDrive - Area Science Park\\Documenti\\green classification\\ENV-TECH codes\\2_CPC\\2.2.  Energy generation from fuels of non-fossil origin.csv \n",
      " \n",
      "Elaborazione dei file C:\\Users\\bincoletto\\OneDrive - Area Science Park\\Documenti\\green classification\\ENV-TECH codes\\2_CPC\\2.2.1. Biofuels, e.g. bio-diesel.csv \n",
      " \n",
      "Elaborazione dei file C:\\Users\\bincoletto\\OneDrive - Area Science Park\\Documenti\\green classification\\ENV-TECH codes\\2_CPC\\2.2.2. Fuel from waste, e.g. synthetic alcohol or diesel.csv \n",
      " \n",
      "Elaborazione dei file C:\\Users\\bincoletto\\OneDrive - Area Science Park\\Documenti\\green classification\\ENV-TECH codes\\2_CPC\\2.3. Combustion technologies with mitigation potential (e.g. using fossil fuels, biomass, waste, etc.).csv \n",
      " \n",
      "Elaborazione dei file C:\\Users\\bincoletto\\OneDrive - Area Science Park\\Documenti\\green classification\\ENV-TECH codes\\2_CPC\\2.3.1. Technologies for improved output efficiency (combined heat and power, combined cycles, etc.).csv \n",
      " \n",
      "Elaborazione dei file C:\\Users\\bincoletto\\OneDrive - Area Science Park\\Documenti\\green classification\\ENV-TECH codes\\2_CPC\\2.3.2. Technologies for improved input efficiency (efficient combustion or heat usage).csv \n",
      " \n",
      "Elaborazione dei file C:\\Users\\bincoletto\\OneDrive - Area Science Park\\Documenti\\green classification\\ENV-TECH codes\\2_CPC\\2.4. Nuclear energy.csv \n",
      " \n",
      "Elaborazione dei file C:\\Users\\bincoletto\\OneDrive - Area Science Park\\Documenti\\green classification\\ENV-TECH codes\\2_CPC\\2.4.1. Nuclear fusion reactors.csv \n",
      " \n",
      "Elaborazione dei file C:\\Users\\bincoletto\\OneDrive - Area Science Park\\Documenti\\green classification\\ENV-TECH codes\\2_CPC\\2.4.2. Nuclear fission reactors.csv \n",
      " \n",
      "Elaborazione dei file C:\\Users\\bincoletto\\OneDrive - Area Science Park\\Documenti\\green classification\\ENV-TECH codes\\2_CPC\\2.5. Technologies for an efficient electrical power generation, transmission or distribution.csv \n",
      " \n",
      "Elaborazione dei file C:\\Users\\bincoletto\\OneDrive - Area Science Park\\Documenti\\green classification\\ENV-TECH codes\\2_CPC\\2.5.1. Superconducting electric elements or equipment.csv \n",
      " \n",
      "Elaborazione dei file C:\\Users\\bincoletto\\OneDrive - Area Science Park\\Documenti\\green classification\\ENV-TECH codes\\2_CPC\\2.5.2. Smart grids as climate change mitigation technology in the energy generation sector.csv \n",
      " \n",
      "Elaborazione dei file C:\\Users\\bincoletto\\OneDrive - Area Science Park\\Documenti\\green classification\\ENV-TECH codes\\2_CPC\\2.5.3. Not elsewhere classified.csv \n",
      " \n",
      "Elaborazione dei file C:\\Users\\bincoletto\\OneDrive - Area Science Park\\Documenti\\green classification\\ENV-TECH codes\\2_CPC\\2.6. Enabling technologies (technologies with potential or indirect contribution to GHG emission mitigation).csv \n",
      " \n",
      "Elaborazione dei file C:\\Users\\bincoletto\\OneDrive - Area Science Park\\Documenti\\green classification\\ENV-TECH codes\\2_CPC\\2.6.1.1. Batteries.csv \n",
      " \n",
      "Elaborazione dei file C:\\Users\\bincoletto\\OneDrive - Area Science Park\\Documenti\\green classification\\ENV-TECH codes\\2_CPC\\2.6.1.2. Capacitors.csv \n",
      " \n",
      "Elaborazione dei file C:\\Users\\bincoletto\\OneDrive - Area Science Park\\Documenti\\green classification\\ENV-TECH codes\\2_CPC\\2.6.1.3. Thermal energy storage.csv \n",
      " \n",
      "Elaborazione dei file C:\\Users\\bincoletto\\OneDrive - Area Science Park\\Documenti\\green classification\\ENV-TECH codes\\2_CPC\\2.6.1.4. Mechanical energy storage, e.g. flywheels or pressurised fluids.csv \n",
      " \n",
      "Elaborazione dei file C:\\Users\\bincoletto\\OneDrive - Area Science Park\\Documenti\\green classification\\ENV-TECH codes\\2_CPC\\2.6.2. Hydrogen technology.csv \n",
      " \n",
      "Elaborazione dei file C:\\Users\\bincoletto\\OneDrive - Area Science Park\\Documenti\\green classification\\ENV-TECH codes\\2_CPC\\2.6.3. Fuel cells.csv \n",
      " \n",
      "Elaborazione dei file C:\\Users\\bincoletto\\OneDrive - Area Science Park\\Documenti\\green classification\\ENV-TECH codes\\2_CPC\\2.6.4. High-voltage direct current transmission.csv \n",
      " \n",
      "Elaborazione dei file C:\\Users\\bincoletto\\OneDrive - Area Science Park\\Documenti\\green classification\\ENV-TECH codes\\2_CPC\\2.7. Other energy conversion or management systems reducing GHG emissions.csv \n",
      " \n"
     ]
    }
   ],
   "source": [
    "path_base = r\"C:\\Users\\bincoletto\\OneDrive - Area Science Park\\Documenti\\green classification\"\n",
    "path_dati = path_base + \"\\\\ENV-TECH codes\\\\\"\n",
    "lista_dd = []\n",
    "for x in lista_dir2:\n",
    "    lista_dd.append(path_dati + x + \"\\\\\")\n",
    "print(f'directory dati: {lista_dd}')\n",
    "\n",
    "for dd in lista_dd:\n",
    "    print(f'>>> inizio elaborazione {dd}')\n",
    "    file_da_elaborare = lista_file_csv(dd)\n",
    "\n",
    "lista_df = []\n",
    "for ff in file_da_elaborare:\n",
    "    df = carica_dati_da_csv(ff)\n",
    "    lista_df.append(df)\n",
    "df_code_2 = pd.concat(lista_df)"
   ]
  },
  {
   "cell_type": "code",
   "execution_count": 15,
   "metadata": {},
   "outputs": [
    {
     "name": "stdout",
     "output_type": "stream",
     "text": [
      "directory dati: ['C:\\\\Users\\\\bincoletto\\\\OneDrive - Area Science Park\\\\Documenti\\\\green classification\\\\ENV-TECH codes\\\\3_CPC\\\\']\n",
      ">>> inizio elaborazione C:\\Users\\bincoletto\\OneDrive - Area Science Park\\Documenti\\green classification\\ENV-TECH codes\\3_CPC\\\n",
      "la directory contiene 5 file\n",
      "Elaborazione dei file C:\\Users\\bincoletto\\OneDrive - Area Science Park\\Documenti\\green classification\\ENV-TECH codes\\3_CPC\\3. Capture, storage, sequestration or disposal of greenhouse gases.csv \n",
      " \n",
      "Elaborazione dei file C:\\Users\\bincoletto\\OneDrive - Area Science Park\\Documenti\\green classification\\ENV-TECH codes\\3_CPC\\3.1. CAPTURE OR DISPOSAL OF NITROUS OXIDE (N2O).csv \n",
      " \n",
      "Elaborazione dei file C:\\Users\\bincoletto\\OneDrive - Area Science Park\\Documenti\\green classification\\ENV-TECH codes\\3_CPC\\3.2. Capture or disposal of methane (CH4).csv \n",
      " \n",
      "Elaborazione dei file C:\\Users\\bincoletto\\OneDrive - Area Science Park\\Documenti\\green classification\\ENV-TECH codes\\3_CPC\\3.3. Capture or disposal of perfluorocarbons (PFC), hydrofluorocarbons (HFC) or sulfur hexafluoride (SF6).csv \n",
      " \n",
      "Elaborazione dei file C:\\Users\\bincoletto\\OneDrive - Area Science Park\\Documenti\\green classification\\ENV-TECH codes\\3_CPC\\3.4. Capture or disposal of carbon dioxide (CO2).csv \n",
      " \n"
     ]
    }
   ],
   "source": [
    "path_base = r\"C:\\Users\\bincoletto\\OneDrive - Area Science Park\\Documenti\\green classification\"\n",
    "path_dati = path_base + \"\\\\ENV-TECH codes\\\\\"\n",
    "lista_dd = []\n",
    "for x in lista_dir3:\n",
    "    lista_dd.append(path_dati + x + \"\\\\\")\n",
    "print(f'directory dati: {lista_dd}')\n",
    "\n",
    "for dd in lista_dd:\n",
    "    print(f'>>> inizio elaborazione {dd}')\n",
    "    file_da_elaborare = lista_file_csv(dd)\n",
    "\n",
    "lista_df = []\n",
    "for ff in file_da_elaborare:\n",
    "    df = carica_dati_da_csv(ff)\n",
    "    lista_df.append(df)\n",
    "df_code_3 = pd.concat(lista_df)"
   ]
  },
  {
   "cell_type": "code",
   "execution_count": 16,
   "metadata": {},
   "outputs": [
    {
     "name": "stdout",
     "output_type": "stream",
     "text": [
      "directory dati: ['C:\\\\Users\\\\bincoletto\\\\OneDrive - Area Science Park\\\\Documenti\\\\green classification\\\\ENV-TECH codes\\\\4_CPC\\\\']\n",
      ">>> inizio elaborazione C:\\Users\\bincoletto\\OneDrive - Area Science Park\\Documenti\\green classification\\ENV-TECH codes\\4_CPC\\\n",
      "la directory contiene 11 file\n",
      "Elaborazione dei file C:\\Users\\bincoletto\\OneDrive - Area Science Park\\Documenti\\green classification\\ENV-TECH codes\\4_CPC\\4. Climate change mitigation technologies related to transportation.csv \n",
      " \n",
      "Elaborazione dei file C:\\Users\\bincoletto\\OneDrive - Area Science Park\\Documenti\\green classification\\ENV-TECH codes\\4_CPC\\4.1. Road transport.csv \n",
      " \n",
      "Elaborazione dei file C:\\Users\\bincoletto\\OneDrive - Area Science Park\\Documenti\\green classification\\ENV-TECH codes\\4_CPC\\4.1.1. Conventional vehicles (based on internal combustion engine).csv \n",
      " \n",
      "Elaborazione dei file C:\\Users\\bincoletto\\OneDrive - Area Science Park\\Documenti\\green classification\\ENV-TECH codes\\4_CPC\\4.1.3. Electric vehicles.csv \n",
      " \n",
      "Elaborazione dei file C:\\Users\\bincoletto\\OneDrive - Area Science Park\\Documenti\\green classification\\ENV-TECH codes\\4_CPC\\4.1.4. Fuel efficiency-improving vehicle design (common to all road vehicles).csv \n",
      " \n",
      "Elaborazione dei file C:\\Users\\bincoletto\\OneDrive - Area Science Park\\Documenti\\green classification\\ENV-TECH codes\\4_CPC\\4.2. Rail transport.csv \n",
      " \n",
      "Elaborazione dei file C:\\Users\\bincoletto\\OneDrive - Area Science Park\\Documenti\\green classification\\ENV-TECH codes\\4_CPC\\4.3. Aeronautics or air transport.csv \n",
      " \n",
      "Elaborazione dei file C:\\Users\\bincoletto\\OneDrive - Area Science Park\\Documenti\\green classification\\ENV-TECH codes\\4_CPC\\4.4. Maritime or waterways transport.csv \n",
      " \n",
      "Elaborazione dei file C:\\Users\\bincoletto\\OneDrive - Area Science Park\\Documenti\\green classification\\ENV-TECH codes\\4_CPC\\4.5. Enabling technologies in transport.csv \n",
      " \n",
      "Elaborazione dei file C:\\Users\\bincoletto\\OneDrive - Area Science Park\\Documenti\\green classification\\ENV-TECH codes\\4_CPC\\4.5.1. Electric vehicle charging.csv \n",
      " \n",
      "Elaborazione dei file C:\\Users\\bincoletto\\OneDrive - Area Science Park\\Documenti\\green classification\\ENV-TECH codes\\4_CPC\\4.5.2. Application of hydrogen technology to transportation, e.g. using fuel cells.csv \n",
      " \n"
     ]
    }
   ],
   "source": [
    "path_base = r\"C:\\Users\\bincoletto\\OneDrive - Area Science Park\\Documenti\\green classification\"\n",
    "path_dati = path_base + \"\\\\ENV-TECH codes\\\\\"\n",
    "lista_dd = []\n",
    "for x in lista_dir4:\n",
    "    lista_dd.append(path_dati + x + \"\\\\\")\n",
    "print(f'directory dati: {lista_dd}')\n",
    "\n",
    "for dd in lista_dd:\n",
    "    print(f'>>> inizio elaborazione {dd}')\n",
    "    file_da_elaborare = lista_file_csv(dd)\n",
    "\n",
    "lista_df = []\n",
    "for ff in file_da_elaborare:\n",
    "    df = carica_dati_da_csv(ff)\n",
    "    lista_df.append(df)\n",
    "df_code_4 = pd.concat(lista_df)"
   ]
  },
  {
   "cell_type": "code",
   "execution_count": 17,
   "metadata": {},
   "outputs": [
    {
     "name": "stdout",
     "output_type": "stream",
     "text": [
      "directory dati: ['C:\\\\Users\\\\bincoletto\\\\OneDrive - Area Science Park\\\\Documenti\\\\green classification\\\\ENV-TECH codes\\\\5_CPC\\\\']\n",
      ">>> inizio elaborazione C:\\Users\\bincoletto\\OneDrive - Area Science Park\\Documenti\\green classification\\ENV-TECH codes\\5_CPC\\\n",
      "la directory contiene 9 file\n",
      "Elaborazione dei file C:\\Users\\bincoletto\\OneDrive - Area Science Park\\Documenti\\green classification\\ENV-TECH codes\\5_CPC\\5. Climate change mitigation technologies related to buildings.csv \n",
      " \n",
      "Elaborazione dei file C:\\Users\\bincoletto\\OneDrive - Area Science Park\\Documenti\\green classification\\ENV-TECH codes\\5_CPC\\5.1. Integration of renewable energy sources in buildings.csv \n",
      " \n",
      "Elaborazione dei file C:\\Users\\bincoletto\\OneDrive - Area Science Park\\Documenti\\green classification\\ENV-TECH codes\\5_CPC\\5.2.1. Energy efficient lighting.csv \n",
      " \n",
      "Elaborazione dei file C:\\Users\\bincoletto\\OneDrive - Area Science Park\\Documenti\\green classification\\ENV-TECH codes\\5_CPC\\5.2.2. Energy efficient heating, ventilation or air conditioning.csv \n",
      " \n",
      "Elaborazione dei file C:\\Users\\bincoletto\\OneDrive - Area Science Park\\Documenti\\green classification\\ENV-TECH codes\\5_CPC\\5.2.3. Energy efficiency in home appliances.csv \n",
      " \n",
      "Elaborazione dei file C:\\Users\\bincoletto\\OneDrive - Area Science Park\\Documenti\\green classification\\ENV-TECH codes\\5_CPC\\5.2.4. Energy efficient elevators, escalators and moving walkways, e.g. energy saving or recuperation technologies.csv \n",
      " \n",
      "Elaborazione dei file C:\\Users\\bincoletto\\OneDrive - Area Science Park\\Documenti\\green classification\\ENV-TECH codes\\5_CPC\\5.2.5. End-user side.csv \n",
      " \n",
      "Elaborazione dei file C:\\Users\\bincoletto\\OneDrive - Area Science Park\\Documenti\\green classification\\ENV-TECH codes\\5_CPC\\5.3. Architectural or constructional elements improving the thermal performance of buildings.csv \n",
      " \n",
      "Elaborazione dei file C:\\Users\\bincoletto\\OneDrive - Area Science Park\\Documenti\\green classification\\ENV-TECH codes\\5_CPC\\5.4. Enabling technologies in buildings.csv \n",
      " \n"
     ]
    }
   ],
   "source": [
    "path_base = r\"C:\\Users\\bincoletto\\OneDrive - Area Science Park\\Documenti\\green classification\"\n",
    "path_dati = path_base + \"\\\\ENV-TECH codes\\\\\"\n",
    "lista_dd = []\n",
    "for x in lista_dir5:\n",
    "    lista_dd.append(path_dati + x + \"\\\\\")\n",
    "print(f'directory dati: {lista_dd}')\n",
    "\n",
    "for dd in lista_dd:\n",
    "    print(f'>>> inizio elaborazione {dd}')\n",
    "    file_da_elaborare = lista_file_csv(dd)\n",
    "\n",
    "lista_df = []\n",
    "for ff in file_da_elaborare:\n",
    "    df = carica_dati_da_csv(ff)\n",
    "    lista_df.append(df)\n",
    "df_code_5 = pd.concat(lista_df)"
   ]
  },
  {
   "cell_type": "code",
   "execution_count": 18,
   "metadata": {},
   "outputs": [
    {
     "name": "stdout",
     "output_type": "stream",
     "text": [
      "directory dati: ['C:\\\\Users\\\\bincoletto\\\\OneDrive - Area Science Park\\\\Documenti\\\\green classification\\\\ENV-TECH codes\\\\6_CPC\\\\']\n",
      ">>> inizio elaborazione C:\\Users\\bincoletto\\OneDrive - Area Science Park\\Documenti\\green classification\\ENV-TECH codes\\6_CPC\\\n",
      "la directory contiene 18 file\n",
      "Elaborazione dei file C:\\Users\\bincoletto\\OneDrive - Area Science Park\\Documenti\\green classification\\ENV-TECH codes\\6_CPC\\6.2.  SOLID WASTE MANAGEMENT.csv \n",
      " \n",
      "Elaborazione dei file C:\\Users\\bincoletto\\OneDrive - Area Science Park\\Documenti\\green classification\\ENV-TECH codes\\6_CPC\\6.2.1.Waste collection, transportation, transfer or storage.csv \n",
      " \n",
      "Elaborazione dei file C:\\Users\\bincoletto\\OneDrive - Area Science Park\\Documenti\\green classification\\ENV-TECH codes\\6_CPC\\6.2.2. Waste processing or separation.csv \n",
      " \n",
      "Elaborazione dei file C:\\Users\\bincoletto\\OneDrive - Area Science Park\\Documenti\\green classification\\ENV-TECH codes\\6_CPC\\6.2.3. Landfill technologies aiming to mitigate methane emissions.csv \n",
      " \n",
      "Elaborazione dei file C:\\Users\\bincoletto\\OneDrive - Area Science Park\\Documenti\\green classification\\ENV-TECH codes\\6_CPC\\6.2.4. Bio-organic fraction processing; Production of fertilisers from the organic fraction of waste or refuse.csv \n",
      " \n",
      "Elaborazione dei file C:\\Users\\bincoletto\\OneDrive - Area Science Park\\Documenti\\green classification\\ENV-TECH codes\\6_CPC\\6.2.5.1. Mechanical processing of waste for the recovery of materials, e.g. crushing, shredding, separation or disassembly.csv \n",
      " \n",
      "Elaborazione dei file C:\\Users\\bincoletto\\OneDrive - Area Science Park\\Documenti\\green classification\\ENV-TECH codes\\6_CPC\\6.2.5.10. Packaging reuse or recycling, e.g. of multilayer packaging.csv \n",
      " \n",
      "Elaborazione dei file C:\\Users\\bincoletto\\OneDrive - Area Science Park\\Documenti\\green classification\\ENV-TECH codes\\6_CPC\\6.2.5.11. Recycling of waste of electrical or electronic equipment (WEEE).csv \n",
      " \n",
      "Elaborazione dei file C:\\Users\\bincoletto\\OneDrive - Area Science Park\\Documenti\\green classification\\ENV-TECH codes\\6_CPC\\6.2.5.12. Recycling of batteries or fuel cells.csv \n",
      " \n",
      "Elaborazione dei file C:\\Users\\bincoletto\\OneDrive - Area Science Park\\Documenti\\green classification\\ENV-TECH codes\\6_CPC\\6.2.5.13. Use of waste materials as fillers for mortars or concrete.csv \n",
      " \n",
      "Elaborazione dei file C:\\Users\\bincoletto\\OneDrive - Area Science Park\\Documenti\\green classification\\ENV-TECH codes\\6_CPC\\6.2.5.2. Waste management of vehicles.csv \n",
      " \n",
      "Elaborazione dei file C:\\Users\\bincoletto\\OneDrive - Area Science Park\\Documenti\\green classification\\ENV-TECH codes\\6_CPC\\6.2.5.3. Construction or demolition C&D waste.csv \n",
      " \n",
      "Elaborazione dei file C:\\Users\\bincoletto\\OneDrive - Area Science Park\\Documenti\\green classification\\ENV-TECH codes\\6_CPC\\6.2.5.4. Glass recycling.csv \n",
      " \n",
      "Elaborazione dei file C:\\Users\\bincoletto\\OneDrive - Area Science Park\\Documenti\\green classification\\ENV-TECH codes\\6_CPC\\6.2.5.5. Plastics and rubber recycling.csv \n",
      " \n",
      "Elaborazione dei file C:\\Users\\bincoletto\\OneDrive - Area Science Park\\Documenti\\green classification\\ENV-TECH codes\\6_CPC\\6.2.5.6. Paper recycling.csv \n",
      " \n",
      "Elaborazione dei file C:\\Users\\bincoletto\\OneDrive - Area Science Park\\Documenti\\green classification\\ENV-TECH codes\\6_CPC\\6.2.5.7. Disintegrating fibre-containing textile articles to obtain fibres for re-use.csv \n",
      " \n",
      "Elaborazione dei file C:\\Users\\bincoletto\\OneDrive - Area Science Park\\Documenti\\green classification\\ENV-TECH codes\\6_CPC\\6.2.5.9. Recycling of wood or furniture waste.csv \n",
      " \n",
      "Elaborazione dei file C:\\Users\\bincoletto\\OneDrive - Area Science Park\\Documenti\\green classification\\ENV-TECH codes\\6_CPC\\6.3. ENABLING TECHNOLOGIES OR TECHNOLOGIES WITH A POTENTIAL OR INDIRECT CONTRIBUTION TO GHG EMISSIONS MITIGATION.csv \n",
      " \n"
     ]
    }
   ],
   "source": [
    "path_base = r\"C:\\Users\\bincoletto\\OneDrive - Area Science Park\\Documenti\\green classification\"\n",
    "path_dati = path_base + \"\\\\ENV-TECH codes\\\\\"\n",
    "lista_dd = []\n",
    "for x in lista_dir6:\n",
    "    lista_dd.append(path_dati + x + \"\\\\\")\n",
    "print(f'directory dati: {lista_dd}')\n",
    "\n",
    "for dd in lista_dd:\n",
    "    print(f'>>> inizio elaborazione {dd}')\n",
    "    file_da_elaborare = lista_file_csv(dd)\n",
    "\n",
    "lista_df = []\n",
    "for ff in file_da_elaborare:\n",
    "    df = carica_dati_da_csv(ff)\n",
    "    lista_df.append(df)\n",
    "df_code_6 = pd.concat(lista_df)"
   ]
  },
  {
   "cell_type": "code",
   "execution_count": 19,
   "metadata": {},
   "outputs": [
    {
     "name": "stdout",
     "output_type": "stream",
     "text": [
      "directory dati: ['C:\\\\Users\\\\bincoletto\\\\OneDrive - Area Science Park\\\\Documenti\\\\green classification\\\\ENV-TECH codes\\\\7_CPC\\\\']\n",
      ">>> inizio elaborazione C:\\Users\\bincoletto\\OneDrive - Area Science Park\\Documenti\\green classification\\ENV-TECH codes\\7_CPC\\\n",
      "la directory contiene 31 file\n",
      "Elaborazione dei file C:\\Users\\bincoletto\\OneDrive - Area Science Park\\Documenti\\green classification\\ENV-TECH codes\\7_CPC\\7. CLIMATE CHANGE MITIGATION TECHNOLOGIES IN THE PRODUCTION OR PROCESSING OF GOODS.csv \n",
      " \n",
      "Elaborazione dei file C:\\Users\\bincoletto\\OneDrive - Area Science Park\\Documenti\\green classification\\ENV-TECH codes\\7_CPC\\7.1.  TECHNOLOGIES RELATED TO METAL PROCESSING.csv \n",
      " \n",
      "Elaborazione dei file C:\\Users\\bincoletto\\OneDrive - Area Science Park\\Documenti\\green classification\\ENV-TECH codes\\7_CPC\\7.1.1. Reduction of greenhouse gas GHG emissions.csv \n",
      " \n",
      "Elaborazione dei file C:\\Users\\bincoletto\\OneDrive - Area Science Park\\Documenti\\green classification\\ENV-TECH codes\\7_CPC\\7.1.2. Process efficiency.csv \n",
      " \n",
      "Elaborazione dei file C:\\Users\\bincoletto\\OneDrive - Area Science Park\\Documenti\\green classification\\ENV-TECH codes\\7_CPC\\7.2. TECHNOLOGIES RELATING TO CHEMICAL INDUSTRY.csv \n",
      " \n",
      "Elaborazione dei file C:\\Users\\bincoletto\\OneDrive - Area Science Park\\Documenti\\green classification\\ENV-TECH codes\\7_CPC\\7.2.1. Process efficiency in chemical industry.csv \n",
      " \n",
      "Elaborazione dei file C:\\Users\\bincoletto\\OneDrive - Area Science Park\\Documenti\\green classification\\ENV-TECH codes\\7_CPC\\7.2.2. Feedstock.csv \n",
      " \n",
      "Elaborazione dei file C:\\Users\\bincoletto\\OneDrive - Area Science Park\\Documenti\\green classification\\ENV-TECH codes\\7_CPC\\7.2.3. Reduction of greenhouse gas GHG emissions, e.g. CO2.csv \n",
      " \n",
      "Elaborazione dei file C:\\Users\\bincoletto\\OneDrive - Area Science Park\\Documenti\\green classification\\ENV-TECH codes\\7_CPC\\7.2.4. Improvements relating to chlorine production.csv \n",
      " \n",
      "Elaborazione dei file C:\\Users\\bincoletto\\OneDrive - Area Science Park\\Documenti\\green classification\\ENV-TECH codes\\7_CPC\\7.2.5. Improvements relating to adipic acid or caprolactam production.csv \n",
      " \n",
      "Elaborazione dei file C:\\Users\\bincoletto\\OneDrive - Area Science Park\\Documenti\\green classification\\ENV-TECH codes\\7_CPC\\7.2.6. Improvements relating to fluorochloro hydrocarbon, e.g. chlorodifluoromethane HCFC-22 production.csv \n",
      " \n",
      "Elaborazione dei file C:\\Users\\bincoletto\\OneDrive - Area Science Park\\Documenti\\green classification\\ENV-TECH codes\\7_CPC\\7.2.7. Improvements relating to the production of bulk chemicals.csv \n",
      " \n",
      "Elaborazione dei file C:\\Users\\bincoletto\\OneDrive - Area Science Park\\Documenti\\green classification\\ENV-TECH codes\\7_CPC\\7.3. TECHNOLOGIES RELATING TO OIL REFINING AND PETROCHEMICAL INDUSTRY.csv \n",
      " \n",
      "Elaborazione dei file C:\\Users\\bincoletto\\OneDrive - Area Science Park\\Documenti\\green classification\\ENV-TECH codes\\7_CPC\\7.3.1. Bio-feedstock.csv \n",
      " \n",
      "Elaborazione dei file C:\\Users\\bincoletto\\OneDrive - Area Science Park\\Documenti\\green classification\\ENV-TECH codes\\7_CPC\\7.3.2. Ethylene production.csv \n",
      " \n",
      "Elaborazione dei file C:\\Users\\bincoletto\\OneDrive - Area Science Park\\Documenti\\green classification\\ENV-TECH codes\\7_CPC\\7.4. TECHNOLOGIES RELATING TO THE PROCESSING OF MINERALS.csv \n",
      " \n",
      "Elaborazione dei file C:\\Users\\bincoletto\\OneDrive - Area Science Park\\Documenti\\green classification\\ENV-TECH codes\\7_CPC\\7.4.1. Production of cement.csv \n",
      " \n",
      "Elaborazione dei file C:\\Users\\bincoletto\\OneDrive - Area Science Park\\Documenti\\green classification\\ENV-TECH codes\\7_CPC\\7.4.2. Production or processing of lime.csv \n",
      " \n",
      "Elaborazione dei file C:\\Users\\bincoletto\\OneDrive - Area Science Park\\Documenti\\green classification\\ENV-TECH codes\\7_CPC\\7.4.3. Glass production.csv \n",
      " \n",
      "Elaborazione dei file C:\\Users\\bincoletto\\OneDrive - Area Science Park\\Documenti\\green classification\\ENV-TECH codes\\7_CPC\\7.5. TECHNOLOGIES RELATING TO AGRICULTURE, LIVESTOCK OR AGROALIMENTARY INDUSTRIES.csv \n",
      " \n",
      "Elaborazione dei file C:\\Users\\bincoletto\\OneDrive - Area Science Park\\Documenti\\green classification\\ENV-TECH codes\\7_CPC\\7.5.1. Using renewable energies, e.g. solar water pumping.csv \n",
      " \n",
      "Elaborazione dei file C:\\Users\\bincoletto\\OneDrive - Area Science Park\\Documenti\\green classification\\ENV-TECH codes\\7_CPC\\7.5.2. Measures for saving energy, e.g. in green houses.csv \n",
      " \n",
      "Elaborazione dei file C:\\Users\\bincoletto\\OneDrive - Area Science Park\\Documenti\\green classification\\ENV-TECH codes\\7_CPC\\7.5.3. Reduction of greenhouse gas GHG emissions in agriculture.csv \n",
      " \n",
      "Elaborazione dei file C:\\Users\\bincoletto\\OneDrive - Area Science Park\\Documenti\\green classification\\ENV-TECH codes\\7_CPC\\7.5.4. Land use policy measures.csv \n",
      " \n",
      "Elaborazione dei file C:\\Users\\bincoletto\\OneDrive - Area Science Park\\Documenti\\green classification\\ENV-TECH codes\\7_CPC\\7.5.5. Afforestation or reforestation.csv \n",
      " \n",
      "Elaborazione dei file C:\\Users\\bincoletto\\OneDrive - Area Science Park\\Documenti\\green classification\\ENV-TECH codes\\7_CPC\\7.5.6. Livestock or poultry management.csv \n",
      " \n",
      "Elaborazione dei file C:\\Users\\bincoletto\\OneDrive - Area Science Park\\Documenti\\green classification\\ENV-TECH codes\\7_CPC\\7.5.7. Fishing; Aquaculture; Aquafarming.csv \n",
      " \n",
      "Elaborazione dei file C:\\Users\\bincoletto\\OneDrive - Area Science Park\\Documenti\\green classification\\ENV-TECH codes\\7_CPC\\7.5.8. Food processing, e.g. use of renewable energies or variable speed drives in handling, conveying or stacking.csv \n",
      " \n",
      "Elaborazione dei file C:\\Users\\bincoletto\\OneDrive - Area Science Park\\Documenti\\green classification\\ENV-TECH codes\\7_CPC\\7.6. TECHNOLOGIES IN THE PRODUCTION PROCESS FOR FINAL INDUSTRIAL OR CONSUMER PRODUCTS.csv \n",
      " \n",
      "Elaborazione dei file C:\\Users\\bincoletto\\OneDrive - Area Science Park\\Documenti\\green classification\\ENV-TECH codes\\7_CPC\\7.7. CLIMATE CHANGE MITIGATION TECHNOLOGIES FOR SECTOR-WIDE APPLICATIONS.csv \n",
      " \n",
      "Elaborazione dei file C:\\Users\\bincoletto\\OneDrive - Area Science Park\\Documenti\\green classification\\ENV-TECH codes\\7_CPC\\7.8. ENABLING TECHNOLOGIES WITH A POTENTIAL CONTRIBUTION TO GHG EMISSIONS MITIGATION.csv \n",
      " \n"
     ]
    }
   ],
   "source": [
    "path_base = r\"C:\\Users\\bincoletto\\OneDrive - Area Science Park\\Documenti\\green classification\"\n",
    "path_dati = path_base + \"\\\\ENV-TECH codes\\\\\"\n",
    "lista_dd = []\n",
    "for x in lista_dir7:\n",
    "    lista_dd.append(path_dati + x + \"\\\\\")\n",
    "print(f'directory dati: {lista_dd}')\n",
    "\n",
    "for dd in lista_dd:\n",
    "    print(f'>>> inizio elaborazione {dd}')\n",
    "    file_da_elaborare = lista_file_csv(dd)\n",
    "\n",
    "lista_df = []\n",
    "for ff in file_da_elaborare:\n",
    "    df = carica_dati_da_csv(ff)\n",
    "    lista_df.append(df)\n",
    "df_code_7 = pd.concat(lista_df)"
   ]
  },
  {
   "cell_type": "code",
   "execution_count": 20,
   "metadata": {},
   "outputs": [
    {
     "name": "stdout",
     "output_type": "stream",
     "text": [
      "directory dati: ['C:\\\\Users\\\\bincoletto\\\\OneDrive - Area Science Park\\\\Documenti\\\\green classification\\\\ENV-TECH codes\\\\8_CPC\\\\']\n",
      ">>> inizio elaborazione C:\\Users\\bincoletto\\OneDrive - Area Science Park\\Documenti\\green classification\\ENV-TECH codes\\8_CPC\\\n",
      "la directory contiene 3 file\n",
      "Elaborazione dei file C:\\Users\\bincoletto\\OneDrive - Area Science Park\\Documenti\\green classification\\ENV-TECH codes\\8_CPC\\8. CLIMATE CHANGE MITIGATION IN INFORMATION AND COMMUNICATION TECHNOLOGIES ICT.csv \n",
      " \n",
      "Elaborazione dei file C:\\Users\\bincoletto\\OneDrive - Area Science Park\\Documenti\\green classification\\ENV-TECH codes\\8_CPC\\8.1.  Energy efficient computing.csv \n",
      " \n",
      "Elaborazione dei file C:\\Users\\bincoletto\\OneDrive - Area Science Park\\Documenti\\green classification\\ENV-TECH codes\\8_CPC\\8.2.  Energy efficiency in communication networks.csv \n",
      " \n"
     ]
    }
   ],
   "source": [
    "path_base = r\"C:\\Users\\bincoletto\\OneDrive - Area Science Park\\Documenti\\green classification\"\n",
    "path_dati = path_base + \"\\\\ENV-TECH codes\\\\\"\n",
    "lista_dd = []\n",
    "for x in lista_dir8:\n",
    "    lista_dd.append(path_dati + x + \"\\\\\")\n",
    "print(f'directory dati: {lista_dd}')\n",
    "\n",
    "for dd in lista_dd:\n",
    "    print(f'>>> inizio elaborazione {dd}')\n",
    "    file_da_elaborare = lista_file_csv(dd)\n",
    "\n",
    "lista_df = []\n",
    "for ff in file_da_elaborare:\n",
    "    df = carica_dati_da_csv(ff)\n",
    "    lista_df.append(df)\n",
    "df_code_8 = pd.concat(lista_df)"
   ]
  },
  {
   "cell_type": "code",
   "execution_count": 21,
   "metadata": {},
   "outputs": [
    {
     "name": "stdout",
     "output_type": "stream",
     "text": [
      "directory dati: ['C:\\\\Users\\\\bincoletto\\\\OneDrive - Area Science Park\\\\Documenti\\\\green classification\\\\ENV-TECH codes\\\\1_IPC\\\\']\n",
      ">>> inizio elaborazione C:\\Users\\bincoletto\\OneDrive - Area Science Park\\Documenti\\green classification\\ENV-TECH codes\\1_IPC\\\n",
      "la directory contiene 13 file\n",
      "Elaborazione dei file C:\\Users\\bincoletto\\OneDrive - Area Science Park\\Documenti\\green classification\\ENV-TECH codes\\1_IPC\\1.1.1. Emissions abatement from stationary sources e.g. SOx, NOx, PM emissions from combustion plants.csv \n",
      " \n",
      "Elaborazione dei file C:\\Users\\bincoletto\\OneDrive - Area Science Park\\Documenti\\green classification\\ENV-TECH codes\\1_IPC\\1.1.2. Emissions abatement from mobile sources e.g. NOx, CO, HC, PM emissions from motor vehicles.csv \n",
      " \n",
      "Elaborazione dei file C:\\Users\\bincoletto\\OneDrive - Area Science Park\\Documenti\\green classification\\ENV-TECH codes\\1_IPC\\1.1.3. Air pollution abatement - Not elsewhere classified.csv \n",
      " \n",
      "Elaborazione dei file C:\\Users\\bincoletto\\OneDrive - Area Science Park\\Documenti\\green classification\\ENV-TECH codes\\1_IPC\\1.2.1. Water and wastewater treatment.csv \n",
      " \n",
      "Elaborazione dei file C:\\Users\\bincoletto\\OneDrive - Area Science Park\\Documenti\\green classification\\ENV-TECH codes\\1_IPC\\1.2.2. Fertilizers from wastewater.csv \n",
      " \n",
      "Elaborazione dei file C:\\Users\\bincoletto\\OneDrive - Area Science Park\\Documenti\\green classification\\ENV-TECH codes\\1_IPC\\1.2.3. Oil spill and pollutant clean-up.csv \n",
      " \n",
      "Elaborazione dei file C:\\Users\\bincoletto\\OneDrive - Area Science Park\\Documenti\\green classification\\ENV-TECH codes\\1_IPC\\1.3.1. Solid waste collection.csv \n",
      " \n",
      "Elaborazione dei file C:\\Users\\bincoletto\\OneDrive - Area Science Park\\Documenti\\green classification\\ENV-TECH codes\\1_IPC\\1.3.2. Material recovery, recycling and re-use.csv \n",
      " \n",
      "Elaborazione dei file C:\\Users\\bincoletto\\OneDrive - Area Science Park\\Documenti\\green classification\\ENV-TECH codes\\1_IPC\\1.3.3. Fertilizers from waste.csv \n",
      " \n",
      "Elaborazione dei file C:\\Users\\bincoletto\\OneDrive - Area Science Park\\Documenti\\green classification\\ENV-TECH codes\\1_IPC\\1.3.4. Incineration and energy recovery.csv \n",
      " \n",
      "Elaborazione dei file C:\\Users\\bincoletto\\OneDrive - Area Science Park\\Documenti\\green classification\\ENV-TECH codes\\1_IPC\\1.3.6. Waste management  Not elsewhere classified.csv \n",
      " \n",
      "Elaborazione dei file C:\\Users\\bincoletto\\OneDrive - Area Science Park\\Documenti\\green classification\\ENV-TECH codes\\1_IPC\\1.4.  Soil remediation.csv \n",
      " \n",
      "Elaborazione dei file C:\\Users\\bincoletto\\OneDrive - Area Science Park\\Documenti\\green classification\\ENV-TECH codes\\1_IPC\\1.5.  Environmental monitoring.csv \n",
      " \n"
     ]
    }
   ],
   "source": [
    "path_base = r\"C:\\Users\\bincoletto\\OneDrive - Area Science Park\\Documenti\\green classification\"\n",
    "path_dati = path_base + \"\\\\ENV-TECH codes\\\\\"\n",
    "lista_dd = []\n",
    "for x in lista_dir9:\n",
    "    lista_dd.append(path_dati + x + \"\\\\\")\n",
    "print(f'directory dati: {lista_dd}')\n",
    "\n",
    "for dd in lista_dd:\n",
    "    print(f'>>> inizio elaborazione {dd}')\n",
    "    file_da_elaborare = lista_file_csv(dd)\n",
    "\n",
    "lista_df = []\n",
    "for ff in file_da_elaborare:\n",
    "    df = carica_dati_da_csv(ff)\n",
    "    lista_df.append(df)\n",
    "df_code_9 = pd.concat(lista_df)"
   ]
  },
  {
   "cell_type": "markdown",
   "metadata": {},
   "source": [
    "Append dei diversi dataframe e controllo dimensioni"
   ]
  },
  {
   "cell_type": "markdown",
   "metadata": {},
   "source": [
    "Solo CPC"
   ]
  },
  {
   "cell_type": "code",
   "execution_count": 22,
   "metadata": {},
   "outputs": [
    {
     "data": {
      "text/plain": [
       "(3613, 1)"
      ]
     },
     "execution_count": 22,
     "metadata": {},
     "output_type": "execute_result"
    }
   ],
   "source": [
    "CPC_code = df_code_1.append([df_code_2, df_code_3, df_code_4, df_code_5, df_code_6, df_code_7, df_code_8])\n",
    "CPC_code.shape"
   ]
  },
  {
   "cell_type": "code",
   "execution_count": 23,
   "metadata": {},
   "outputs": [
    {
     "data": {
      "text/plain": [
       "(3097, 1)"
      ]
     },
     "execution_count": 23,
     "metadata": {},
     "output_type": "execute_result"
    }
   ],
   "source": [
    "CPC_code_univoci = CPC_code.drop_duplicates(subset=['Code'])\n",
    "CPC_code_univoci.shape"
   ]
  },
  {
   "cell_type": "markdown",
   "metadata": {},
   "source": [
    "CPC + IPC"
   ]
  },
  {
   "cell_type": "code",
   "execution_count": 24,
   "metadata": {},
   "outputs": [
    {
     "data": {
      "text/plain": [
       "(4525, 1)"
      ]
     },
     "execution_count": 24,
     "metadata": {},
     "output_type": "execute_result"
    }
   ],
   "source": [
    "# append di tutti e 8 i vari dataframe\n",
    "df_code = df_code_1.append([df_code_2, df_code_3, df_code_4, df_code_5, df_code_6, df_code_7, df_code_8, df_code_9])\n",
    "df_code.shape"
   ]
  },
  {
   "cell_type": "code",
   "execution_count": 25,
   "metadata": {},
   "outputs": [
    {
     "data": {
      "text/plain": [
       "(3150, 1)"
      ]
     },
     "execution_count": 25,
     "metadata": {},
     "output_type": "execute_result"
    }
   ],
   "source": [
    "# eliminare i code ripetuti\n",
    "df_code_univoco = df_code.drop_duplicates(subset=['Code'])\n",
    "df_code_univoco.shape"
   ]
  },
  {
   "cell_type": "markdown",
   "metadata": {},
   "source": [
    "Salvataggio csv \"ENV_TECH_univoco\": tutti i codici CPC e IPC univoci, senza doppioni"
   ]
  },
  {
   "cell_type": "code",
   "execution_count": 26,
   "metadata": {},
   "outputs": [],
   "source": [
    "path = \"C:\\\\Users\\\\bincoletto\\\\OneDrive - Area Science Park\\\\Documenti\\\\green classification\\\\ENV-TECH codes\\\\finale\\\\ENV_TECH_univoco.csv\"\n",
    "#df_code_univoco.to_csv(path, sep=';', encoding='utf-8', index=False)\n",
    "df_code_univoco.to_csv(path, sep='|',encoding='utf-8-sig', index=False)"
   ]
  },
  {
   "cell_type": "markdown",
   "metadata": {},
   "source": [
    "Salvataggio csv \"ENV_TECH_level\": codici senza doppioni per riga, ma con una colonna in più relativa al livello 2 (nome dei singoli csv, es. \"1.1.1. Emissions abatement from stationary sources\")"
   ]
  },
  {
   "cell_type": "code",
   "execution_count": 27,
   "metadata": {},
   "outputs": [
    {
     "data": {
      "text/plain": [
       "level_2\n",
       "1.1.2. Emissions abatement from mobile sources               898\n",
       "1.2.1. Water and wastewater treatment                        621\n",
       "1.1.3. Air pollution abatement - Not elsewhere classified    402\n",
       "1.3.1. Solid waste collection                                277\n",
       "1.3.2. Material recovery recycling and re-use                191\n",
       "1.1.1. Emissions abatement from stationary sources           156\n",
       "1.3.4. Incineration and energy recovery                       65\n",
       "1.3.3. Fertilizers from waste                                 55\n",
       "1.2.3. Oil spill and pollutant clean-up                       35\n",
       "1.3.6. Waste management Not elsewhere classified              29\n",
       "1.4.  Soil remediation                                        15\n",
       "1.5.  Environmental monitoring                                 6\n",
       "1.2.2. Fertilizers from wastewater                             4\n",
       "dtype: int64"
      ]
     },
     "execution_count": 27,
     "metadata": {},
     "output_type": "execute_result"
    }
   ],
   "source": [
    "# Aggiungo una colonna con il nome del file .csv ad ogni ddataframe\n",
    "\n",
    "# path_base = r\"C:\\Users\\bincoletto\\OneDrive - Area Science Park\\Documenti\\green classification\"\n",
    "# path_dati = path_base + \"\\\\ENV-TECH codes\\\\\"\n",
    "\n",
    "path = os.path.join(path_dati, '1_CPC')\n",
    "files = [os.path.join(path,i) for i in os.listdir(path) if os.path.isfile(os.path.join(path,i))]\n",
    "\n",
    "df_1 = pd.DataFrame()\n",
    "\n",
    "for file in files:\n",
    "    _df = pd.read_csv(file)\n",
    "    _df['level_2'] = os.path.split(file)[-1]\n",
    "    df_1 = df_1.append(_df)\n",
    "\n",
    "df_1['sublevel'] = df_1['level_2'].str.replace('.csv', '', regex=True)\n",
    "df_1 = df_1.drop(columns=[\n",
    "    'level_2'\n",
    "])\n",
    "df_1 = df_1.rename(columns={\n",
    "    'sublevel': 'level_2'\n",
    "})\n",
    "\n",
    "df_1[\"Fonte\"] = 'CPC'\n",
    "\n",
    "df_1.value_counts('level_2')"
   ]
  },
  {
   "cell_type": "code",
   "execution_count": 28,
   "metadata": {},
   "outputs": [
    {
     "data": {
      "text/plain": [
       "level_2\n",
       "2. Climate change mitigation technologies related to energy generation, transmission or distribution            95\n",
       "2.1. Renewable energy generation                                                                                38\n",
       "2.6. Enabling technologies (technologies with potential or indirect contribution to GHG emission mitigation)    23\n",
       "2.1.3. Solar photovoltaic (PV) energy                                                                           15\n",
       "2.1.1. Wind energy                                                                                              11\n",
       "2.3. Combustion technologies with mitigation potential (e.g. using fossil fuels, biomass, waste, etc.)          10\n",
       "2.5. Technologies for an efficient electrical power generation, transmission or distribution                     8\n",
       "2.4. Nuclear energy                                                                                              8\n",
       "2.2.  Energy generation from fuels of non-fossil origin                                                          6\n",
       "2.5.3. Not elsewhere classified                                                                                  5\n",
       "2.3.2. Technologies for improved input efficiency (efficient combustion or heat usage)                           5\n",
       "2.6.2. Hydrogen technology                                                                                       4\n",
       "2.3.1. Technologies for improved output efficiency (combined heat and power, combined cycles, etc.)              4\n",
       "2.1.2. Solar thermal energy                                                                                      4\n",
       "2.7. Other energy conversion or management systems reducing GHG emissions                                        2\n",
       "2.6.4. High-voltage direct current transmission                                                                  1\n",
       "2.6.3. Fuel cells                                                                                                1\n",
       "2.6.1.4. Mechanical energy storage, e.g. flywheels or pressurised fluids                                         1\n",
       "2.6.1.3. Thermal energy storage                                                                                  1\n",
       "2.6.1.2. Capacitors                                                                                              1\n",
       "2.6.1.1. Batteries                                                                                               1\n",
       "2.1.7. Hydro energy                                                                                              1\n",
       "2.5.2. Smart grids as climate change mitigation technology in the energy generation sector                       1\n",
       "2.1.4. Solar thermal-PV hybrids                                                                                  1\n",
       "2.4.2. Nuclear fission reactors                                                                                  1\n",
       "2.4.1. Nuclear fusion reactors                                                                                   1\n",
       "2.1.5. Geothermal energy                                                                                         1\n",
       "2.1.6. Marine energy, e.g. using wave energy or salinity gradient                                                1\n",
       "2.2.2. Fuel from waste, e.g. synthetic alcohol or diesel                                                         1\n",
       "2.2.1. Biofuels, e.g. bio-diesel                                                                                 1\n",
       "2.5.1. Superconducting electric elements or equipment                                                            1\n",
       "dtype: int64"
      ]
     },
     "execution_count": 28,
     "metadata": {},
     "output_type": "execute_result"
    }
   ],
   "source": [
    "path = os.path.join(path_dati, '2_CPC')\n",
    "files = [os.path.join(path,i) for i in os.listdir(path) if os.path.isfile(os.path.join(path,i))]\n",
    "\n",
    "df_2 = pd.DataFrame()\n",
    "\n",
    "for file in files:\n",
    "    _df = pd.read_csv(file)\n",
    "    _df['level_2'] = os.path.split(file)[-1]\n",
    "    df_2 = df_2.append(_df)\n",
    "\n",
    "df_2['sublevel'] = df_2['level_2'].str.replace('.csv', '', regex=True)\n",
    "df_2 = df_2.drop(columns=[\n",
    "    'level_2'\n",
    "])\n",
    "df_2 = df_2.rename(columns={\n",
    "    'sublevel': 'level_2'\n",
    "})\n",
    "\n",
    "df_2[\"Fonte\"] = 'CPC'\n",
    "\n",
    "df_2.value_counts('level_2')"
   ]
  },
  {
   "cell_type": "code",
   "execution_count": 29,
   "metadata": {},
   "outputs": [
    {
     "data": {
      "text/plain": [
       "level_2\n",
       "3. Capture, storage, sequestration or disposal of greenhouse gases                                           7\n",
       "3.1. CAPTURE OR DISPOSAL OF NITROUS OXIDE (N2O)                                                              1\n",
       "3.2. Capture or disposal of methane (CH4)                                                                    1\n",
       "3.3. Capture or disposal of perfluorocarbons (PFC), hydrofluorocarbons (HFC) or sulfur hexafluoride (SF6)    1\n",
       "3.4. Capture or disposal of carbon dioxide (CO2)                                                             1\n",
       "dtype: int64"
      ]
     },
     "execution_count": 29,
     "metadata": {},
     "output_type": "execute_result"
    }
   ],
   "source": [
    "path = os.path.join(path_dati, '3_CPC')\n",
    "files = [os.path.join(path,i) for i in os.listdir(path) if os.path.isfile(os.path.join(path,i))]\n",
    "\n",
    "df_3 = pd.DataFrame()\n",
    "\n",
    "for file in files:\n",
    "    _df = pd.read_csv(file)\n",
    "    _df['level_2'] = os.path.split(file)[-1]\n",
    "    df_3 = df_3.append(_df)\n",
    "\n",
    "df_3['sublevel'] = df_3['level_2'].str.replace('.csv', '', regex=True)\n",
    "df_3 = df_3.drop(columns=[\n",
    "    'level_2'\n",
    "])\n",
    "df_3 = df_3.rename(columns={\n",
    "    'sublevel': 'level_2'\n",
    "})\n",
    "\n",
    "df_3[\"Fonte\"] = 'CPC'\n",
    "\n",
    "df_3.value_counts('level_2')"
   ]
  },
  {
   "cell_type": "code",
   "execution_count": 30,
   "metadata": {},
   "outputs": [
    {
     "data": {
      "text/plain": [
       "level_2\n",
       "4. Climate change mitigation technologies related to transportation                   75\n",
       "4.1. Road transport                                                                   38\n",
       "4.5. Enabling technologies in transport                                               15\n",
       "4.3. Aeronautics or air transport                                                     13\n",
       "4.5.1. Electric vehicle charging                                                      11\n",
       "4.1.4. Fuel efficiency-improving vehicle design (common to all road vehicles)          7\n",
       "4.4. Maritime or waterways transport                                                   6\n",
       "4.1.1. Conventional vehicles (based on internal combustion engine)                     4\n",
       "4.1.3. Electric vehicles                                                               4\n",
       "4.2. Rail transport                                                                    1\n",
       "4.5.2. Application of hydrogen technology to transportation, e.g. using fuel cells     1\n",
       "dtype: int64"
      ]
     },
     "execution_count": 30,
     "metadata": {},
     "output_type": "execute_result"
    }
   ],
   "source": [
    "path = os.path.join(path_dati, '4_CPC')\n",
    "files = [os.path.join(path,i) for i in os.listdir(path) if os.path.isfile(os.path.join(path,i))]\n",
    "\n",
    "df_4 = pd.DataFrame()\n",
    "\n",
    "for file in files:\n",
    "    _df = pd.read_csv(file)\n",
    "    _df['level_2'] = os.path.split(file)[-1]\n",
    "    df_4 = df_4.append(_df)\n",
    "\n",
    "df_4['sublevel'] = df_4['level_2'].str.replace('.csv', '', regex=True)\n",
    "df_4 = df_4.drop(columns=[\n",
    "    'level_2'\n",
    "])\n",
    "df_4 = df_4.rename(columns={\n",
    "    'sublevel': 'level_2'\n",
    "})\n",
    "\n",
    "df_4[\"Fonte\"] = 'CPC'\n",
    "\n",
    "df_4.value_counts('level_2')"
   ]
  },
  {
   "cell_type": "code",
   "execution_count": 31,
   "metadata": {},
   "outputs": [
    {
     "data": {
      "text/plain": [
       "level_2\n",
       "5. Climate change mitigation technologies related to buildings                                                        62\n",
       "5.2.2. Energy efficient heating, ventilation or air conditioning                                                      12\n",
       "5.2.5. End-user side                                                                                                  10\n",
       "5.1. Integration of renewable energy sources in buildings                                                              7\n",
       "5.2.1. Energy efficient lighting                                                                                       7\n",
       "5.4. Enabling technologies in buildings                                                                                6\n",
       "5.3. Architectural or constructional elements improving the thermal performance of buildings                           4\n",
       "5.2.3. Energy efficiency in home appliances                                                                            3\n",
       "5.2.4. Energy efficient elevators, escalators and moving walkways, e.g. energy saving or recuperation technologies     1\n",
       "dtype: int64"
      ]
     },
     "execution_count": 31,
     "metadata": {},
     "output_type": "execute_result"
    }
   ],
   "source": [
    "path = os.path.join(path_dati, '5_CPC')\n",
    "files = [os.path.join(path,i) for i in os.listdir(path) if os.path.isfile(os.path.join(path,i))]\n",
    "\n",
    "df_5 = pd.DataFrame()\n",
    "\n",
    "for file in files:\n",
    "    _df = pd.read_csv(file)\n",
    "    _df['level_2'] = os.path.split(file)[-1]\n",
    "    df_5 = df_5.append(_df)\n",
    "\n",
    "df_5['sublevel'] = df_5['level_2'].str.replace('.csv', '', regex=True)\n",
    "df_5 = df_5.drop(columns=[\n",
    "    'level_2'\n",
    "])\n",
    "df_5 = df_5.rename(columns={\n",
    "    'sublevel': 'level_2'\n",
    "})\n",
    "\n",
    "df_5[\"Fonte\"] = 'CPC'\n",
    "\n",
    "df_5.value_counts('level_2')"
   ]
  },
  {
   "cell_type": "code",
   "execution_count": 32,
   "metadata": {},
   "outputs": [
    {
     "data": {
      "text/plain": [
       "level_2\n",
       "6.2.  SOLID WASTE MANAGEMENT                                                                                                  28\n",
       "6.3. ENABLING TECHNOLOGIES OR TECHNOLOGIES WITH A POTENTIAL OR INDIRECT CONTRIBUTION TO GHG EMISSIONS MITIGATION               2\n",
       "6.2.2. Waste processing or separation                                                                                          1\n",
       "6.2.3. Landfill technologies aiming to mitigate methane emissions                                                              1\n",
       "6.2.4. Bio-organic fraction processing; Production of fertilisers from the organic fraction of waste or refuse                 1\n",
       "6.2.5.1. Mechanical processing of waste for the recovery of materials, e.g. crushing, shredding, separation or disassembly     1\n",
       "6.2.5.10. Packaging reuse or recycling, e.g. of multilayer packaging                                                           1\n",
       "6.2.5.11. Recycling of waste of electrical or electronic equipment (WEEE)                                                      1\n",
       "6.2.5.12. Recycling of batteries or fuel cells                                                                                 1\n",
       "6.2.1.Waste collection, transportation, transfer or storage                                                                    1\n",
       "6.2.5.2. Waste management of vehicles                                                                                          1\n",
       "6.2.5.3. Construction or demolition C&D waste                                                                                  1\n",
       "6.2.5.4. Glass recycling                                                                                                       1\n",
       "6.2.5.5. Plastics and rubber recycling                                                                                         1\n",
       "6.2.5.6. Paper recycling                                                                                                       1\n",
       "6.2.5.7. Disintegrating fibre-containing textile articles to obtain fibres for re-use                                          1\n",
       "6.2.5.9. Recycling of wood or furniture waste                                                                                  1\n",
       "6.2.5.13. Use of waste materials as fillers for mortars or concrete                                                            1\n",
       "dtype: int64"
      ]
     },
     "execution_count": 32,
     "metadata": {},
     "output_type": "execute_result"
    }
   ],
   "source": [
    "path = os.path.join(path_dati, '6_CPC')\n",
    "files = [os.path.join(path,i) for i in os.listdir(path) if os.path.isfile(os.path.join(path,i))]\n",
    "\n",
    "df_6 = pd.DataFrame()\n",
    "\n",
    "for file in files:\n",
    "    _df = pd.read_csv(file)\n",
    "    _df['level_2'] = os.path.split(file)[-1]\n",
    "    df_6 = df_6.append(_df)\n",
    "\n",
    "df_6['sublevel'] = df_6['level_2'].str.replace('.csv', '', regex=True)\n",
    "df_6 = df_6.drop(columns=[\n",
    "    'level_2'\n",
    "])\n",
    "df_6 = df_6.rename(columns={\n",
    "    'sublevel': 'level_2'\n",
    "})\n",
    "\n",
    "df_6[\"Fonte\"] = 'CPC'\n",
    "\n",
    "df_6.value_counts('level_2')"
   ]
  },
  {
   "cell_type": "code",
   "execution_count": 33,
   "metadata": {},
   "outputs": [
    {
     "data": {
      "text/plain": [
       "level_2\n",
       "7. CLIMATE CHANGE MITIGATION TECHNOLOGIES IN THE PRODUCTION OR PROCESSING OF GOODS                                    85\n",
       "7.2. TECHNOLOGIES RELATING TO CHEMICAL INDUSTRY                                                                       21\n",
       "7.5. TECHNOLOGIES RELATING TO AGRICULTURE, LIVESTOCK OR AGROALIMENTARY INDUSTRIES                                     14\n",
       "7.8. ENABLING TECHNOLOGIES WITH A POTENTIAL CONTRIBUTION TO GHG EMISSIONS MITIGATION                                  13\n",
       "7.4. TECHNOLOGIES RELATING TO THE PROCESSING OF MINERALS                                                              10\n",
       "7.1.  TECHNOLOGIES RELATED TO METAL PROCESSING                                                                         9\n",
       "7.7. CLIMATE CHANGE MITIGATION TECHNOLOGIES FOR SECTOR-WIDE APPLICATIONS                                               8\n",
       "7.6. TECHNOLOGIES IN THE PRODUCTION PROCESS FOR FINAL INDUSTRIAL OR CONSUMER PRODUCTS                                  7\n",
       "7.1.1. Reduction of greenhouse gas GHG emissions                                                                       5\n",
       "7.4.1. Production of cement                                                                                            4\n",
       "7.5.8. Food processing, e.g. use of renewable energies or variable speed drives in handling, conveying or stacking     3\n",
       "7.5.3. Reduction of greenhouse gas GHG emissions in agriculture                                                        3\n",
       "7.2.1. Process efficiency in chemical industry                                                                         3\n",
       "7.1.2. Process efficiency                                                                                              3\n",
       "7.3. TECHNOLOGIES RELATING TO OIL REFINING AND PETROCHEMICAL INDUSTRY                                                  3\n",
       "7.2.2. Feedstock                                                                                                       3\n",
       "7.2.3. Reduction of greenhouse gas GHG emissions, e.g. CO2                                                             3\n",
       "7.4.2. Production or processing of lime                                                                                2\n",
       "7.4.3. Glass production                                                                                                2\n",
       "7.5.6. Livestock or poultry management                                                                                 2\n",
       "7.5.5. Afforestation or reforestation                                                                                  1\n",
       "7.2.4. Improvements relating to chlorine production                                                                    1\n",
       "7.5.7. Fishing; Aquaculture; Aquafarming                                                                               1\n",
       "7.3.2. Ethylene production                                                                                             1\n",
       "7.5.4. Land use policy measures                                                                                        1\n",
       "7.3.1. Bio-feedstock                                                                                                   1\n",
       "7.5.2. Measures for saving energy, e.g. in green houses                                                                1\n",
       "7.5.1. Using renewable energies, e.g. solar water pumping                                                              1\n",
       "7.2.6. Improvements relating to fluorochloro hydrocarbon, e.g. chlorodifluoromethane HCFC-22 production                1\n",
       "7.2.7. Improvements relating to the production of bulk chemicals                                                       1\n",
       "7.2.5. Improvements relating to adipic acid or caprolactam production                                                  1\n",
       "dtype: int64"
      ]
     },
     "execution_count": 33,
     "metadata": {},
     "output_type": "execute_result"
    }
   ],
   "source": [
    "path = os.path.join(path_dati, '7_CPC')\n",
    "files = [os.path.join(path,i) for i in os.listdir(path) if os.path.isfile(os.path.join(path,i))]\n",
    "\n",
    "df_7 = pd.DataFrame()\n",
    "\n",
    "for file in files:\n",
    "    _df = pd.read_csv(file)\n",
    "    _df['level_2'] = os.path.split(file)[-1]\n",
    "    df_7 = df_7.append(_df)\n",
    "\n",
    "df_7['sublevel'] = df_7['level_2'].str.replace('.csv', '', regex=True)\n",
    "df_7 = df_7.drop(columns=[\n",
    "    'level_2'\n",
    "])\n",
    "df_7 = df_7.rename(columns={\n",
    "    'sublevel': 'level_2'\n",
    "})\n",
    "\n",
    "df_7[\"Fonte\"] = 'CPC'\n",
    "\n",
    "df_7.value_counts('level_2')"
   ]
  },
  {
   "cell_type": "code",
   "execution_count": 34,
   "metadata": {},
   "outputs": [
    {
     "data": {
      "text/plain": [
       "level_2\n",
       "8. CLIMATE CHANGE MITIGATION IN INFORMATION AND COMMUNICATION TECHNOLOGIES ICT    33\n",
       "8.1.  Energy efficient computing                                                  11\n",
       "8.2.  Energy efficiency in communication networks                                  3\n",
       "dtype: int64"
      ]
     },
     "execution_count": 34,
     "metadata": {},
     "output_type": "execute_result"
    }
   ],
   "source": [
    "path = os.path.join(path_dati, '8_CPC')\n",
    "files = [os.path.join(path,i) for i in os.listdir(path) if os.path.isfile(os.path.join(path,i))]\n",
    "\n",
    "df_8 = pd.DataFrame()\n",
    "\n",
    "for file in files:\n",
    "    _df = pd.read_csv(file)\n",
    "    _df['level_2'] = os.path.split(file)[-1]\n",
    "    df_8 = df_8.append(_df)\n",
    "\n",
    "df_8['sublevel'] = df_8['level_2'].str.replace('.csv', '', regex=True)\n",
    "df_8 = df_8.drop(columns=[\n",
    "    'level_2'\n",
    "])\n",
    "df_8 = df_8.rename(columns={\n",
    "    'sublevel': 'level_2'\n",
    "})\n",
    "\n",
    "df_8[\"Fonte\"] = 'CPC'\n",
    "\n",
    "df_8.value_counts('level_2')"
   ]
  },
  {
   "cell_type": "code",
   "execution_count": 35,
   "metadata": {},
   "outputs": [
    {
     "data": {
      "text/plain": [
       "level_2\n",
       "1.1.2. Emissions abatement from mobile sources e.g. NOx, CO, HC, PM emissions from motor vehicles        310\n",
       "1.2.1. Water and wastewater treatment                                                                    178\n",
       "1.1.3. Air pollution abatement - Not elsewhere classified                                                137\n",
       "1.3.2. Material recovery, recycling and re-use                                                            76\n",
       "1.1.1. Emissions abatement from stationary sources e.g. SOx, NOx, PM emissions from combustion plants     71\n",
       "1.3.3. Fertilizers from waste                                                                             46\n",
       "1.3.4. Incineration and energy recovery                                                                   40\n",
       "1.3.1. Solid waste collection                                                                             29\n",
       "1.4.  Soil remediation                                                                                     7\n",
       "1.2.3. Oil spill and pollutant clean-up                                                                    6\n",
       "1.3.6. Waste management  Not elsewhere classified                                                          6\n",
       "1.2.2. Fertilizers from wastewater                                                                         3\n",
       "1.5.  Environmental monitoring                                                                             3\n",
       "dtype: int64"
      ]
     },
     "execution_count": 35,
     "metadata": {},
     "output_type": "execute_result"
    }
   ],
   "source": [
    "path = os.path.join(path_dati, '1_IPC')\n",
    "files = [os.path.join(path,i) for i in os.listdir(path) if os.path.isfile(os.path.join(path,i))]\n",
    "\n",
    "df_9 = pd.DataFrame()\n",
    "\n",
    "for file in files:\n",
    "    _df = pd.read_csv(file)\n",
    "    _df['level_2'] = os.path.split(file)[-1]\n",
    "    df_9 = df_9.append(_df)\n",
    "\n",
    "df_9['sublevel'] = df_9['level_2'].str.replace('.csv', '', regex=True)\n",
    "df_9 = df_9.drop(columns=[\n",
    "    'level_2'\n",
    "])\n",
    "df_9 = df_9.rename(columns={\n",
    "    'sublevel': 'level_2'\n",
    "})\n",
    "\n",
    "df_9[\"Fonte\"] = 'IPC'\n",
    "\n",
    "df_9.value_counts('level_2')"
   ]
  },
  {
   "cell_type": "code",
   "execution_count": 36,
   "metadata": {},
   "outputs": [
    {
     "data": {
      "text/plain": [
       "(4525, 3)"
      ]
     },
     "execution_count": 36,
     "metadata": {},
     "output_type": "execute_result"
    }
   ],
   "source": [
    "Code_level_all = df_1.append([df_2, df_3, df_4, df_5, df_6, df_7, df_8, df_9])\n",
    "Code_level_all.shape"
   ]
  },
  {
   "cell_type": "code",
   "execution_count": 37,
   "metadata": {},
   "outputs": [
    {
     "name": "stdout",
     "output_type": "stream",
     "text": [
      "I progetti del dataframe sono: (3150, 2)\n",
      "          Code    Fonte\n",
      "0  A23K  10/26  CPC;IPC\n",
      "1  A23K  10/28  CPC;IPC\n",
      "2  A23K  10/32  CPC;IPC\n",
      "3  A23K  10/33  CPC;IPC\n",
      "4  A23K  10/37  CPC;IPC\n",
      "             Code    Fonte\n",
      "3145  Y02W  30/84  CPC;CPC\n",
      "3146  Y02W  30/91  CPC;CPC\n",
      "3147  Y02W  30/97      CPC\n",
      "3148  Y02W  90/00      CPC\n",
      "3149  Y02W  90/10      CPC\n"
     ]
    }
   ],
   "source": [
    "# Uso il groupby per mettere tutti i valori della colonna 'Fonte' in un'unica cella per codice \n",
    "# (che dovrà apparire solo una volta per riga)\n",
    "fonte_all_subset = Code_level_all.copy()\n",
    "fonte_all_subset= fonte_all_subset.groupby('Code')['Fonte'].apply(';'.join).reset_index()\n",
    "print(f\"I progetti del dataframe sono: {fonte_all_subset.shape}\")\n",
    "print(fonte_all_subset.head(5))\n",
    "print(fonte_all_subset.tail(5))"
   ]
  },
  {
   "cell_type": "code",
   "execution_count": 54,
   "metadata": {},
   "outputs": [
    {
     "name": "stdout",
     "output_type": "stream",
     "text": [
      "Le righe della colonna \"Fonte\" sono categorizzate nel seguente modo:\n",
      "Fonte\n",
      "CPC                1877\n",
      "CPC;IPC             839\n",
      "CPC;CPC             236\n",
      "CPC;CPC;CPC         135\n",
      "IPC                  53\n",
      "CPC;CPC;IPC;IPC      10\n",
      "dtype: int64\n"
     ]
    },
    {
     "data": {
      "text/html": [
       "<div>\n",
       "<style scoped>\n",
       "    .dataframe tbody tr th:only-of-type {\n",
       "        vertical-align: middle;\n",
       "    }\n",
       "\n",
       "    .dataframe tbody tr th {\n",
       "        vertical-align: top;\n",
       "    }\n",
       "\n",
       "    .dataframe thead th {\n",
       "        text-align: right;\n",
       "    }\n",
       "</style>\n",
       "<table border=\"1\" class=\"dataframe\">\n",
       "  <thead>\n",
       "    <tr style=\"text-align: right;\">\n",
       "      <th></th>\n",
       "      <th>Code</th>\n",
       "      <th>Fonte</th>\n",
       "    </tr>\n",
       "  </thead>\n",
       "  <tbody>\n",
       "    <tr>\n",
       "      <th>0</th>\n",
       "      <td>A23K  10/26</td>\n",
       "      <td>CPC &amp; IPC</td>\n",
       "    </tr>\n",
       "    <tr>\n",
       "      <th>1</th>\n",
       "      <td>A23K  10/28</td>\n",
       "      <td>CPC &amp; IPC</td>\n",
       "    </tr>\n",
       "    <tr>\n",
       "      <th>2</th>\n",
       "      <td>A23K  10/32</td>\n",
       "      <td>CPC &amp; IPC</td>\n",
       "    </tr>\n",
       "    <tr>\n",
       "      <th>3</th>\n",
       "      <td>A23K  10/33</td>\n",
       "      <td>CPC &amp; IPC</td>\n",
       "    </tr>\n",
       "    <tr>\n",
       "      <th>4</th>\n",
       "      <td>A23K  10/37</td>\n",
       "      <td>CPC &amp; IPC</td>\n",
       "    </tr>\n",
       "    <tr>\n",
       "      <th>...</th>\n",
       "      <td>...</td>\n",
       "      <td>...</td>\n",
       "    </tr>\n",
       "    <tr>\n",
       "      <th>3145</th>\n",
       "      <td>Y02W  30/84</td>\n",
       "      <td>CPC</td>\n",
       "    </tr>\n",
       "    <tr>\n",
       "      <th>3146</th>\n",
       "      <td>Y02W  30/91</td>\n",
       "      <td>CPC</td>\n",
       "    </tr>\n",
       "    <tr>\n",
       "      <th>3147</th>\n",
       "      <td>Y02W  30/97</td>\n",
       "      <td>CPC</td>\n",
       "    </tr>\n",
       "    <tr>\n",
       "      <th>3148</th>\n",
       "      <td>Y02W  90/00</td>\n",
       "      <td>CPC</td>\n",
       "    </tr>\n",
       "    <tr>\n",
       "      <th>3149</th>\n",
       "      <td>Y02W  90/10</td>\n",
       "      <td>CPC</td>\n",
       "    </tr>\n",
       "  </tbody>\n",
       "</table>\n",
       "<p>3150 rows × 2 columns</p>\n",
       "</div>"
      ],
      "text/plain": [
       "             Code      Fonte\n",
       "0     A23K  10/26  CPC & IPC\n",
       "1     A23K  10/28  CPC & IPC\n",
       "2     A23K  10/32  CPC & IPC\n",
       "3     A23K  10/33  CPC & IPC\n",
       "4     A23K  10/37  CPC & IPC\n",
       "...           ...        ...\n",
       "3145  Y02W  30/84        CPC\n",
       "3146  Y02W  30/91        CPC\n",
       "3147  Y02W  30/97        CPC\n",
       "3148  Y02W  90/00        CPC\n",
       "3149  Y02W  90/10        CPC\n",
       "\n",
       "[3150 rows x 2 columns]"
      ]
     },
     "execution_count": 54,
     "metadata": {},
     "output_type": "execute_result"
    }
   ],
   "source": [
    "# verifica e modifica dei valori della colonna \"Fonte\" in:\n",
    "# - CPC\n",
    "# - IPC\n",
    "# - CPC & IPC\n",
    "\n",
    "# verifico i valori della colonna Fonte da semplificare secondo la categorizzazione sopra\n",
    "conteggio = fonte_all_subset.value_counts('Fonte')\n",
    "print('Le righe della colonna \"Fonte\" sono categorizzate nel seguente modo:')\n",
    "print(f'{conteggio}')\n",
    "\n",
    "# ciclo che vado a trovare la presenza dei valori cpc e ipc e sostituisca i valori correttamente secondo le catoegorie sopra identificate:\n",
    "\n",
    "fonte_riclassification = fonte_all_subset.copy()\n",
    "fonte_riclassification['Fonte'] = fonte_riclassification['Fonte'].map({\n",
    "    'CPC': 'CPC',\n",
    "    'CPC;IPC': 'CPC & IPC',\n",
    "    'CPC;CPC': 'CPC',\n",
    "    'CPC;CPC;CPC': 'CPC',\n",
    "    'IPC': 'IPC',\n",
    "    'CPC;CPC;IPC;IPC': 'CPC & IPC',\n",
    "    np.nan:'Null'\n",
    "}, na_action=None)\n",
    "fonte_riclassification"
   ]
  },
  {
   "cell_type": "code",
   "execution_count": 55,
   "metadata": {},
   "outputs": [
    {
     "name": "stdout",
     "output_type": "stream",
     "text": [
      "            Code                                            Level_2\n",
      "0    A23K  10/26  1.3.2. Material recovery recycling and re-use;...\n",
      "1    A23K  10/28  1.3.2. Material recovery recycling and re-use;...\n",
      "2    A23K  10/32  1.3.2. Material recovery recycling and re-use;...\n",
      "3    A23K  10/33  1.3.2. Material recovery recycling and re-use;...\n",
      "4    A23K  10/37  1.3.2. Material recovery recycling and re-use;...\n",
      "5    A23K  10/38  1.3.2. Material recovery recycling and re-use;...\n",
      "6    A43B   1/12  1.3.2. Material recovery recycling and re-use;...\n",
      "7    A61L  11/00  1.3.6. Waste management Not elsewhere classifi...\n",
      "8    B01D  46/00  1.1.3. Air pollution abatement - Not elsewhere...\n",
      "9  B01D  46/0001  1.1.3. Air pollution abatement - Not elsewhere...\n",
      "I progetti del dataframe sono: (3150, 2)\n"
     ]
    }
   ],
   "source": [
    "# Uso il groupby per mettere tutti i valori della colonna 'level_2' in un'unica cella per codice \n",
    "# (che dovrà apparire solo una volta per riga)\n",
    "level_all_subset = Code_level_all.copy()\n",
    "level_all_subset= level_all_subset.groupby('Code')['level_2'].apply('; '.join).reset_index()\n",
    "level_all_subset = level_all_subset.rename(columns={\n",
    "    'level_2':'Level_2'\n",
    "})\n",
    "print(level_all_subset.head(10))\n",
    "print(f\"I progetti del dataframe sono: {level_all_subset.shape}\")"
   ]
  },
  {
   "cell_type": "code",
   "execution_count": 56,
   "metadata": {},
   "outputs": [
    {
     "data": {
      "text/html": [
       "<div>\n",
       "<style scoped>\n",
       "    .dataframe tbody tr th:only-of-type {\n",
       "        vertical-align: middle;\n",
       "    }\n",
       "\n",
       "    .dataframe tbody tr th {\n",
       "        vertical-align: top;\n",
       "    }\n",
       "\n",
       "    .dataframe thead th {\n",
       "        text-align: right;\n",
       "    }\n",
       "</style>\n",
       "<table border=\"1\" class=\"dataframe\">\n",
       "  <thead>\n",
       "    <tr style=\"text-align: right;\">\n",
       "      <th></th>\n",
       "      <th>Code</th>\n",
       "      <th>Level_2</th>\n",
       "      <th>Fonte</th>\n",
       "    </tr>\n",
       "  </thead>\n",
       "  <tbody>\n",
       "    <tr>\n",
       "      <th>0</th>\n",
       "      <td>A23K  10/26</td>\n",
       "      <td>1.3.2. Material recovery recycling and re-use;...</td>\n",
       "      <td>CPC &amp; IPC</td>\n",
       "    </tr>\n",
       "    <tr>\n",
       "      <th>1</th>\n",
       "      <td>A23K  10/28</td>\n",
       "      <td>1.3.2. Material recovery recycling and re-use;...</td>\n",
       "      <td>CPC &amp; IPC</td>\n",
       "    </tr>\n",
       "    <tr>\n",
       "      <th>2</th>\n",
       "      <td>A23K  10/32</td>\n",
       "      <td>1.3.2. Material recovery recycling and re-use;...</td>\n",
       "      <td>CPC &amp; IPC</td>\n",
       "    </tr>\n",
       "    <tr>\n",
       "      <th>3</th>\n",
       "      <td>A23K  10/33</td>\n",
       "      <td>1.3.2. Material recovery recycling and re-use;...</td>\n",
       "      <td>CPC &amp; IPC</td>\n",
       "    </tr>\n",
       "    <tr>\n",
       "      <th>4</th>\n",
       "      <td>A23K  10/37</td>\n",
       "      <td>1.3.2. Material recovery recycling and re-use;...</td>\n",
       "      <td>CPC &amp; IPC</td>\n",
       "    </tr>\n",
       "    <tr>\n",
       "      <th>...</th>\n",
       "      <td>...</td>\n",
       "      <td>...</td>\n",
       "      <td>...</td>\n",
       "    </tr>\n",
       "    <tr>\n",
       "      <th>3145</th>\n",
       "      <td>Y02W  30/84</td>\n",
       "      <td>6.2.  SOLID WASTE MANAGEMENT; 6.2.5.12. Recycl...</td>\n",
       "      <td>CPC</td>\n",
       "    </tr>\n",
       "    <tr>\n",
       "      <th>3146</th>\n",
       "      <td>Y02W  30/91</td>\n",
       "      <td>6.2.  SOLID WASTE MANAGEMENT; 6.2.5.13. Use of...</td>\n",
       "      <td>CPC</td>\n",
       "    </tr>\n",
       "    <tr>\n",
       "      <th>3147</th>\n",
       "      <td>Y02W  30/97</td>\n",
       "      <td>6.2.  SOLID WASTE MANAGEMENT</td>\n",
       "      <td>CPC</td>\n",
       "    </tr>\n",
       "    <tr>\n",
       "      <th>3148</th>\n",
       "      <td>Y02W  90/00</td>\n",
       "      <td>6.3. ENABLING TECHNOLOGIES OR TECHNOLOGIES WIT...</td>\n",
       "      <td>CPC</td>\n",
       "    </tr>\n",
       "    <tr>\n",
       "      <th>3149</th>\n",
       "      <td>Y02W  90/10</td>\n",
       "      <td>6.3. ENABLING TECHNOLOGIES OR TECHNOLOGIES WIT...</td>\n",
       "      <td>CPC</td>\n",
       "    </tr>\n",
       "  </tbody>\n",
       "</table>\n",
       "<p>3150 rows × 3 columns</p>\n",
       "</div>"
      ],
      "text/plain": [
       "             Code                                            Level_2  \\\n",
       "0     A23K  10/26  1.3.2. Material recovery recycling and re-use;...   \n",
       "1     A23K  10/28  1.3.2. Material recovery recycling and re-use;...   \n",
       "2     A23K  10/32  1.3.2. Material recovery recycling and re-use;...   \n",
       "3     A23K  10/33  1.3.2. Material recovery recycling and re-use;...   \n",
       "4     A23K  10/37  1.3.2. Material recovery recycling and re-use;...   \n",
       "...           ...                                                ...   \n",
       "3145  Y02W  30/84  6.2.  SOLID WASTE MANAGEMENT; 6.2.5.12. Recycl...   \n",
       "3146  Y02W  30/91  6.2.  SOLID WASTE MANAGEMENT; 6.2.5.13. Use of...   \n",
       "3147  Y02W  30/97                       6.2.  SOLID WASTE MANAGEMENT   \n",
       "3148  Y02W  90/00  6.3. ENABLING TECHNOLOGIES OR TECHNOLOGIES WIT...   \n",
       "3149  Y02W  90/10  6.3. ENABLING TECHNOLOGIES OR TECHNOLOGIES WIT...   \n",
       "\n",
       "          Fonte  \n",
       "0     CPC & IPC  \n",
       "1     CPC & IPC  \n",
       "2     CPC & IPC  \n",
       "3     CPC & IPC  \n",
       "4     CPC & IPC  \n",
       "...         ...  \n",
       "3145        CPC  \n",
       "3146        CPC  \n",
       "3147        CPC  \n",
       "3148        CPC  \n",
       "3149        CPC  \n",
       "\n",
       "[3150 rows x 3 columns]"
      ]
     },
     "execution_count": 56,
     "metadata": {},
     "output_type": "execute_result"
    }
   ],
   "source": [
    "# merge dei due sottogruppi creati con il groupby\n",
    "df_final = pd.merge(level_all_subset, fonte_riclassification, how=\"left\", on='Code')\n",
    "df_final"
   ]
  },
  {
   "cell_type": "code",
   "execution_count": 57,
   "metadata": {},
   "outputs": [],
   "source": [
    "path = \"C:\\\\Users\\\\bincoletto\\\\OneDrive - Area Science Park\\\\Documenti\\\\green classification\\\\ENV-TECH codes\\\\finale\\\\ENV_TECH_final.csv\"\n",
    "#df_code_univoco.to_csv(path, sep=';', encoding='utf-8', index=False)\n",
    "df_final.to_csv(path, sep='|',encoding='utf-8-sig', index=False)"
   ]
  }
 ],
 "metadata": {
  "interpreter": {
   "hash": "930310433b839ec1457e1cdd9f16908570261e6f3670db41d734e188786974cb"
  },
  "kernelspec": {
   "display_name": "Python 3.9.5 64-bit",
   "language": "python",
   "name": "python3"
  },
  "language_info": {
   "codemirror_mode": {
    "name": "ipython",
    "version": 3
   },
   "file_extension": ".py",
   "mimetype": "text/x-python",
   "name": "python",
   "nbconvert_exporter": "python",
   "pygments_lexer": "ipython3",
   "version": "3.9.5"
  },
  "orig_nbformat": 4
 },
 "nbformat": 4,
 "nbformat_minor": 2
}
